{
 "cells": [
  {
   "cell_type": "markdown",
   "id": "5ba6a42f-cd50-48c2-a4a6-6a5734b6f3a3",
   "metadata": {},
   "source": [
    "# Load the Data"
   ]
  },
  {
   "cell_type": "code",
   "execution_count": 4,
   "id": "5eabecdc-a38c-4320-bb4d-14320f5b09bf",
   "metadata": {},
   "outputs": [],
   "source": [
    "import pandas as pd\n",
    "import numpy as np\n",
    "import matplotlib.pyplot as  plt"
   ]
  },
  {
   "cell_type": "code",
   "execution_count": 5,
   "id": "9710ddd2-bbc6-446f-b9d8-e3c33465d2f3",
   "metadata": {},
   "outputs": [],
   "source": [
    "# check the data is in which format. on according to the format load the data"
   ]
  },
  {
   "cell_type": "code",
   "execution_count": 6,
   "id": "09e9903d-93ca-45ac-b11a-00316441311d",
   "metadata": {},
   "outputs": [],
   "source": [
    "df=pd.read_csv(\"C:\\\\Users\\\\krish\\\\OneDrive\\\\Desktop\\\\innoByte_Services_Project\\\\Amazon Sale Report (1).csv\")"
   ]
  },
  {
   "cell_type": "code",
   "execution_count": 7,
   "id": "93d424e4-3362-4cf2-825c-4a0c498a158e",
   "metadata": {},
   "outputs": [
    {
     "data": {
      "text/html": [
       "<div>\n",
       "<style scoped>\n",
       "    .dataframe tbody tr th:only-of-type {\n",
       "        vertical-align: middle;\n",
       "    }\n",
       "\n",
       "    .dataframe tbody tr th {\n",
       "        vertical-align: top;\n",
       "    }\n",
       "\n",
       "    .dataframe thead th {\n",
       "        text-align: right;\n",
       "    }\n",
       "</style>\n",
       "<table border=\"1\" class=\"dataframe\">\n",
       "  <thead>\n",
       "    <tr style=\"text-align: right;\">\n",
       "      <th></th>\n",
       "      <th>index</th>\n",
       "      <th>Order ID</th>\n",
       "      <th>Date</th>\n",
       "      <th>Status</th>\n",
       "      <th>Fulfilment</th>\n",
       "      <th>Sales Channel</th>\n",
       "      <th>ship-service-level</th>\n",
       "      <th>Category</th>\n",
       "      <th>Size</th>\n",
       "      <th>Courier Status</th>\n",
       "      <th>...</th>\n",
       "      <th>currency</th>\n",
       "      <th>Amount</th>\n",
       "      <th>ship-city</th>\n",
       "      <th>ship-state</th>\n",
       "      <th>ship-postal-code</th>\n",
       "      <th>ship-country</th>\n",
       "      <th>B2B</th>\n",
       "      <th>fulfilled-by</th>\n",
       "      <th>New</th>\n",
       "      <th>PendingS</th>\n",
       "    </tr>\n",
       "  </thead>\n",
       "  <tbody>\n",
       "    <tr>\n",
       "      <th>0</th>\n",
       "      <td>0</td>\n",
       "      <td>405-8078784-5731545</td>\n",
       "      <td>04-30-22</td>\n",
       "      <td>Cancelled</td>\n",
       "      <td>Merchant</td>\n",
       "      <td>Amazon.in</td>\n",
       "      <td>Standard</td>\n",
       "      <td>T-shirt</td>\n",
       "      <td>S</td>\n",
       "      <td>On the Way</td>\n",
       "      <td>...</td>\n",
       "      <td>INR</td>\n",
       "      <td>647.62</td>\n",
       "      <td>MUMBAI</td>\n",
       "      <td>MAHARASHTRA</td>\n",
       "      <td>400081.0</td>\n",
       "      <td>IN</td>\n",
       "      <td>False</td>\n",
       "      <td>Easy Ship</td>\n",
       "      <td>NaN</td>\n",
       "      <td>NaN</td>\n",
       "    </tr>\n",
       "    <tr>\n",
       "      <th>1</th>\n",
       "      <td>1</td>\n",
       "      <td>171-9198151-1101146</td>\n",
       "      <td>04-30-22</td>\n",
       "      <td>Shipped - Delivered to Buyer</td>\n",
       "      <td>Merchant</td>\n",
       "      <td>Amazon.in</td>\n",
       "      <td>Standard</td>\n",
       "      <td>Shirt</td>\n",
       "      <td>3XL</td>\n",
       "      <td>Shipped</td>\n",
       "      <td>...</td>\n",
       "      <td>INR</td>\n",
       "      <td>406.00</td>\n",
       "      <td>BENGALURU</td>\n",
       "      <td>KARNATAKA</td>\n",
       "      <td>560085.0</td>\n",
       "      <td>IN</td>\n",
       "      <td>False</td>\n",
       "      <td>Easy Ship</td>\n",
       "      <td>NaN</td>\n",
       "      <td>NaN</td>\n",
       "    </tr>\n",
       "    <tr>\n",
       "      <th>2</th>\n",
       "      <td>2</td>\n",
       "      <td>404-0687676-7273146</td>\n",
       "      <td>04-30-22</td>\n",
       "      <td>Shipped</td>\n",
       "      <td>Amazon</td>\n",
       "      <td>Amazon.in</td>\n",
       "      <td>Expedited</td>\n",
       "      <td>Shirt</td>\n",
       "      <td>XL</td>\n",
       "      <td>Shipped</td>\n",
       "      <td>...</td>\n",
       "      <td>INR</td>\n",
       "      <td>329.00</td>\n",
       "      <td>NAVI MUMBAI</td>\n",
       "      <td>MAHARASHTRA</td>\n",
       "      <td>410210.0</td>\n",
       "      <td>IN</td>\n",
       "      <td>True</td>\n",
       "      <td>NaN</td>\n",
       "      <td>NaN</td>\n",
       "      <td>NaN</td>\n",
       "    </tr>\n",
       "    <tr>\n",
       "      <th>3</th>\n",
       "      <td>3</td>\n",
       "      <td>403-9615377-8133951</td>\n",
       "      <td>04-30-22</td>\n",
       "      <td>Cancelled</td>\n",
       "      <td>Merchant</td>\n",
       "      <td>Amazon.in</td>\n",
       "      <td>Standard</td>\n",
       "      <td>Blazzer</td>\n",
       "      <td>L</td>\n",
       "      <td>On the Way</td>\n",
       "      <td>...</td>\n",
       "      <td>INR</td>\n",
       "      <td>753.33</td>\n",
       "      <td>PUDUCHERRY</td>\n",
       "      <td>PUDUCHERRY</td>\n",
       "      <td>605008.0</td>\n",
       "      <td>IN</td>\n",
       "      <td>False</td>\n",
       "      <td>Easy Ship</td>\n",
       "      <td>NaN</td>\n",
       "      <td>NaN</td>\n",
       "    </tr>\n",
       "    <tr>\n",
       "      <th>4</th>\n",
       "      <td>4</td>\n",
       "      <td>407-1069790-7240320</td>\n",
       "      <td>04-30-22</td>\n",
       "      <td>Shipped</td>\n",
       "      <td>Amazon</td>\n",
       "      <td>Amazon.in</td>\n",
       "      <td>Expedited</td>\n",
       "      <td>Trousers</td>\n",
       "      <td>3XL</td>\n",
       "      <td>Shipped</td>\n",
       "      <td>...</td>\n",
       "      <td>INR</td>\n",
       "      <td>574.00</td>\n",
       "      <td>CHENNAI</td>\n",
       "      <td>TAMIL NADU</td>\n",
       "      <td>600073.0</td>\n",
       "      <td>IN</td>\n",
       "      <td>False</td>\n",
       "      <td>NaN</td>\n",
       "      <td>NaN</td>\n",
       "      <td>NaN</td>\n",
       "    </tr>\n",
       "    <tr>\n",
       "      <th>...</th>\n",
       "      <td>...</td>\n",
       "      <td>...</td>\n",
       "      <td>...</td>\n",
       "      <td>...</td>\n",
       "      <td>...</td>\n",
       "      <td>...</td>\n",
       "      <td>...</td>\n",
       "      <td>...</td>\n",
       "      <td>...</td>\n",
       "      <td>...</td>\n",
       "      <td>...</td>\n",
       "      <td>...</td>\n",
       "      <td>...</td>\n",
       "      <td>...</td>\n",
       "      <td>...</td>\n",
       "      <td>...</td>\n",
       "      <td>...</td>\n",
       "      <td>...</td>\n",
       "      <td>...</td>\n",
       "      <td>...</td>\n",
       "      <td>...</td>\n",
       "    </tr>\n",
       "    <tr>\n",
       "      <th>128971</th>\n",
       "      <td>128970</td>\n",
       "      <td>406-6001380-7673107</td>\n",
       "      <td>05-31-22</td>\n",
       "      <td>Shipped</td>\n",
       "      <td>Amazon</td>\n",
       "      <td>Amazon.in</td>\n",
       "      <td>Expedited</td>\n",
       "      <td>Shirt</td>\n",
       "      <td>XL</td>\n",
       "      <td>Shipped</td>\n",
       "      <td>...</td>\n",
       "      <td>INR</td>\n",
       "      <td>517.00</td>\n",
       "      <td>HYDERABAD</td>\n",
       "      <td>TELANGANA</td>\n",
       "      <td>500013.0</td>\n",
       "      <td>IN</td>\n",
       "      <td>False</td>\n",
       "      <td>NaN</td>\n",
       "      <td>NaN</td>\n",
       "      <td>NaN</td>\n",
       "    </tr>\n",
       "    <tr>\n",
       "      <th>128972</th>\n",
       "      <td>128971</td>\n",
       "      <td>402-9551604-7544318</td>\n",
       "      <td>05-31-22</td>\n",
       "      <td>Shipped</td>\n",
       "      <td>Amazon</td>\n",
       "      <td>Amazon.in</td>\n",
       "      <td>Expedited</td>\n",
       "      <td>T-shirt</td>\n",
       "      <td>M</td>\n",
       "      <td>Shipped</td>\n",
       "      <td>...</td>\n",
       "      <td>INR</td>\n",
       "      <td>999.00</td>\n",
       "      <td>GURUGRAM</td>\n",
       "      <td>HARYANA</td>\n",
       "      <td>122004.0</td>\n",
       "      <td>IN</td>\n",
       "      <td>False</td>\n",
       "      <td>NaN</td>\n",
       "      <td>NaN</td>\n",
       "      <td>NaN</td>\n",
       "    </tr>\n",
       "    <tr>\n",
       "      <th>128973</th>\n",
       "      <td>128972</td>\n",
       "      <td>407-9547469-3152358</td>\n",
       "      <td>05-31-22</td>\n",
       "      <td>Shipped</td>\n",
       "      <td>Amazon</td>\n",
       "      <td>Amazon.in</td>\n",
       "      <td>Expedited</td>\n",
       "      <td>Blazzer</td>\n",
       "      <td>XXL</td>\n",
       "      <td>Shipped</td>\n",
       "      <td>...</td>\n",
       "      <td>INR</td>\n",
       "      <td>690.00</td>\n",
       "      <td>HYDERABAD</td>\n",
       "      <td>TELANGANA</td>\n",
       "      <td>500049.0</td>\n",
       "      <td>IN</td>\n",
       "      <td>False</td>\n",
       "      <td>NaN</td>\n",
       "      <td>NaN</td>\n",
       "      <td>NaN</td>\n",
       "    </tr>\n",
       "    <tr>\n",
       "      <th>128974</th>\n",
       "      <td>128973</td>\n",
       "      <td>402-6184140-0545956</td>\n",
       "      <td>05-31-22</td>\n",
       "      <td>Shipped</td>\n",
       "      <td>Amazon</td>\n",
       "      <td>Amazon.in</td>\n",
       "      <td>Expedited</td>\n",
       "      <td>T-shirt</td>\n",
       "      <td>XS</td>\n",
       "      <td>Shipped</td>\n",
       "      <td>...</td>\n",
       "      <td>INR</td>\n",
       "      <td>1199.00</td>\n",
       "      <td>Halol</td>\n",
       "      <td>Gujarat</td>\n",
       "      <td>389350.0</td>\n",
       "      <td>IN</td>\n",
       "      <td>False</td>\n",
       "      <td>NaN</td>\n",
       "      <td>NaN</td>\n",
       "      <td>NaN</td>\n",
       "    </tr>\n",
       "    <tr>\n",
       "      <th>128975</th>\n",
       "      <td>128974</td>\n",
       "      <td>408-7436540-8728312</td>\n",
       "      <td>05-31-22</td>\n",
       "      <td>Shipped</td>\n",
       "      <td>Amazon</td>\n",
       "      <td>Amazon.in</td>\n",
       "      <td>Expedited</td>\n",
       "      <td>T-shirt</td>\n",
       "      <td>S</td>\n",
       "      <td>Shipped</td>\n",
       "      <td>...</td>\n",
       "      <td>INR</td>\n",
       "      <td>696.00</td>\n",
       "      <td>Raipur</td>\n",
       "      <td>CHHATTISGARH</td>\n",
       "      <td>492014.0</td>\n",
       "      <td>IN</td>\n",
       "      <td>False</td>\n",
       "      <td>NaN</td>\n",
       "      <td>NaN</td>\n",
       "      <td>NaN</td>\n",
       "    </tr>\n",
       "  </tbody>\n",
       "</table>\n",
       "<p>128976 rows × 21 columns</p>\n",
       "</div>"
      ],
      "text/plain": [
       "         index             Order ID      Date                        Status  \\\n",
       "0            0  405-8078784-5731545  04-30-22                     Cancelled   \n",
       "1            1  171-9198151-1101146  04-30-22  Shipped - Delivered to Buyer   \n",
       "2            2  404-0687676-7273146  04-30-22                       Shipped   \n",
       "3            3  403-9615377-8133951  04-30-22                     Cancelled   \n",
       "4            4  407-1069790-7240320  04-30-22                       Shipped   \n",
       "...        ...                  ...       ...                           ...   \n",
       "128971  128970  406-6001380-7673107  05-31-22                       Shipped   \n",
       "128972  128971  402-9551604-7544318  05-31-22                       Shipped   \n",
       "128973  128972  407-9547469-3152358  05-31-22                       Shipped   \n",
       "128974  128973  402-6184140-0545956  05-31-22                       Shipped   \n",
       "128975  128974  408-7436540-8728312  05-31-22                       Shipped   \n",
       "\n",
       "       Fulfilment Sales Channel ship-service-level  Category Size  \\\n",
       "0        Merchant     Amazon.in           Standard   T-shirt    S   \n",
       "1        Merchant     Amazon.in           Standard     Shirt  3XL   \n",
       "2          Amazon     Amazon.in          Expedited     Shirt   XL   \n",
       "3        Merchant     Amazon.in           Standard   Blazzer    L   \n",
       "4          Amazon     Amazon.in          Expedited  Trousers  3XL   \n",
       "...           ...           ...                ...       ...  ...   \n",
       "128971     Amazon     Amazon.in          Expedited     Shirt   XL   \n",
       "128972     Amazon     Amazon.in          Expedited   T-shirt    M   \n",
       "128973     Amazon     Amazon.in          Expedited   Blazzer  XXL   \n",
       "128974     Amazon     Amazon.in          Expedited   T-shirt   XS   \n",
       "128975     Amazon     Amazon.in          Expedited   T-shirt    S   \n",
       "\n",
       "       Courier Status  ...  currency   Amount    ship-city    ship-state  \\\n",
       "0          On the Way  ...       INR   647.62       MUMBAI   MAHARASHTRA   \n",
       "1             Shipped  ...       INR   406.00    BENGALURU     KARNATAKA   \n",
       "2             Shipped  ...       INR   329.00  NAVI MUMBAI   MAHARASHTRA   \n",
       "3          On the Way  ...       INR   753.33   PUDUCHERRY    PUDUCHERRY   \n",
       "4             Shipped  ...       INR   574.00      CHENNAI    TAMIL NADU   \n",
       "...               ...  ...       ...      ...          ...           ...   \n",
       "128971        Shipped  ...       INR   517.00    HYDERABAD     TELANGANA   \n",
       "128972        Shipped  ...       INR   999.00     GURUGRAM       HARYANA   \n",
       "128973        Shipped  ...       INR   690.00    HYDERABAD     TELANGANA   \n",
       "128974        Shipped  ...       INR  1199.00        Halol       Gujarat   \n",
       "128975        Shipped  ...       INR   696.00       Raipur  CHHATTISGARH   \n",
       "\n",
       "       ship-postal-code  ship-country    B2B  fulfilled-by New  PendingS  \n",
       "0              400081.0            IN  False     Easy Ship NaN       NaN  \n",
       "1              560085.0            IN  False     Easy Ship NaN       NaN  \n",
       "2              410210.0            IN   True           NaN NaN       NaN  \n",
       "3              605008.0            IN  False     Easy Ship NaN       NaN  \n",
       "4              600073.0            IN  False           NaN NaN       NaN  \n",
       "...                 ...           ...    ...           ...  ..       ...  \n",
       "128971         500013.0            IN  False           NaN NaN       NaN  \n",
       "128972         122004.0            IN  False           NaN NaN       NaN  \n",
       "128973         500049.0            IN  False           NaN NaN       NaN  \n",
       "128974         389350.0            IN  False           NaN NaN       NaN  \n",
       "128975         492014.0            IN  False           NaN NaN       NaN  \n",
       "\n",
       "[128976 rows x 21 columns]"
      ]
     },
     "execution_count": 7,
     "metadata": {},
     "output_type": "execute_result"
    }
   ],
   "source": [
    "df"
   ]
  },
  {
   "cell_type": "code",
   "execution_count": 8,
   "id": "8ef914a1-223a-42c2-ba9b-29cab6afa9c3",
   "metadata": {},
   "outputs": [],
   "source": [
    "#By using df.shape wee can calculate the number of rows and columns in the Data set"
   ]
  },
  {
   "cell_type": "code",
   "execution_count": 9,
   "id": "00055c8e-095a-4c5f-b840-6a928d55e1af",
   "metadata": {},
   "outputs": [
    {
     "data": {
      "text/plain": [
       "(128976, 21)"
      ]
     },
     "execution_count": 9,
     "metadata": {},
     "output_type": "execute_result"
    }
   ],
   "source": [
    "df.shape"
   ]
  },
  {
   "cell_type": "code",
   "execution_count": 10,
   "id": "46f2d98f-639e-4af6-be9b-37b6f422d3f7",
   "metadata": {},
   "outputs": [
    {
     "data": {
      "text/plain": [
       "Index(['index', 'Order ID', 'Date', 'Status', 'Fulfilment', 'Sales Channel',\n",
       "       'ship-service-level', 'Category', 'Size', 'Courier Status', 'Qty',\n",
       "       'currency', 'Amount', 'ship-city', 'ship-state', 'ship-postal-code',\n",
       "       'ship-country', 'B2B', 'fulfilled-by', 'New', 'PendingS'],\n",
       "      dtype='object')"
      ]
     },
     "execution_count": 10,
     "metadata": {},
     "output_type": "execute_result"
    }
   ],
   "source": [
    "#By using  df.columns we can know the all collumn names in the Data set\n",
    "df.columns"
   ]
  },
  {
   "cell_type": "code",
   "execution_count": 11,
   "id": "167afe4a-564a-42cc-8414-1eda2f774c7c",
   "metadata": {},
   "outputs": [
    {
     "name": "stdout",
     "output_type": "stream",
     "text": [
      "<class 'pandas.core.frame.DataFrame'>\n",
      "RangeIndex: 128976 entries, 0 to 128975\n",
      "Data columns (total 21 columns):\n",
      " #   Column              Non-Null Count   Dtype  \n",
      "---  ------              --------------   -----  \n",
      " 0   index               128976 non-null  int64  \n",
      " 1   Order ID            128976 non-null  object \n",
      " 2   Date                128976 non-null  object \n",
      " 3   Status              128976 non-null  object \n",
      " 4   Fulfilment          128976 non-null  object \n",
      " 5   Sales Channel       128976 non-null  object \n",
      " 6   ship-service-level  128976 non-null  object \n",
      " 7   Category            128976 non-null  object \n",
      " 8   Size                128976 non-null  object \n",
      " 9   Courier Status      128976 non-null  object \n",
      " 10  Qty                 128976 non-null  int64  \n",
      " 11  currency            121176 non-null  object \n",
      " 12  Amount              121176 non-null  float64\n",
      " 13  ship-city           128941 non-null  object \n",
      " 14  ship-state          128941 non-null  object \n",
      " 15  ship-postal-code    128941 non-null  float64\n",
      " 16  ship-country        128941 non-null  object \n",
      " 17  B2B                 128976 non-null  bool   \n",
      " 18  fulfilled-by        39263 non-null   object \n",
      " 19  New                 0 non-null       float64\n",
      " 20  PendingS            0 non-null       float64\n",
      "dtypes: bool(1), float64(4), int64(2), object(14)\n",
      "memory usage: 19.8+ MB\n"
     ]
    }
   ],
   "source": [
    "df.info()"
   ]
  },
  {
   "cell_type": "code",
   "execution_count": 12,
   "id": "8d338e68-caa8-4a22-8ea5-f897be66103a",
   "metadata": {},
   "outputs": [
    {
     "data": {
      "text/plain": [
       "index                      0\n",
       "Order ID                   0\n",
       "Date                       0\n",
       "Status                     0\n",
       "Fulfilment                 0\n",
       "Sales Channel              0\n",
       "ship-service-level         0\n",
       "Category                   0\n",
       "Size                       0\n",
       "Courier Status             0\n",
       "Qty                        0\n",
       "currency                7800\n",
       "Amount                  7800\n",
       "ship-city                 35\n",
       "ship-state                35\n",
       "ship-postal-code          35\n",
       "ship-country              35\n",
       "B2B                        0\n",
       "fulfilled-by           89713\n",
       "New                   128976\n",
       "PendingS              128976\n",
       "dtype: int64"
      ]
     },
     "execution_count": 12,
     "metadata": {},
     "output_type": "execute_result"
    }
   ],
   "source": [
    "df.isnull().sum()"
   ]
  },
  {
   "cell_type": "code",
   "execution_count": 13,
   "id": "69d32423-4890-49fb-9f5c-d388712192f8",
   "metadata": {},
   "outputs": [
    {
     "data": {
      "text/html": [
       "<div>\n",
       "<style scoped>\n",
       "    .dataframe tbody tr th:only-of-type {\n",
       "        vertical-align: middle;\n",
       "    }\n",
       "\n",
       "    .dataframe tbody tr th {\n",
       "        vertical-align: top;\n",
       "    }\n",
       "\n",
       "    .dataframe thead th {\n",
       "        text-align: right;\n",
       "    }\n",
       "</style>\n",
       "<table border=\"1\" class=\"dataframe\">\n",
       "  <thead>\n",
       "    <tr style=\"text-align: right;\">\n",
       "      <th></th>\n",
       "      <th>index</th>\n",
       "      <th>Order ID</th>\n",
       "      <th>Date</th>\n",
       "      <th>Status</th>\n",
       "      <th>Fulfilment</th>\n",
       "      <th>Sales Channel</th>\n",
       "      <th>ship-service-level</th>\n",
       "      <th>Category</th>\n",
       "      <th>Size</th>\n",
       "      <th>Courier Status</th>\n",
       "      <th>...</th>\n",
       "      <th>currency</th>\n",
       "      <th>Amount</th>\n",
       "      <th>ship-city</th>\n",
       "      <th>ship-state</th>\n",
       "      <th>ship-postal-code</th>\n",
       "      <th>ship-country</th>\n",
       "      <th>B2B</th>\n",
       "      <th>fulfilled-by</th>\n",
       "      <th>New</th>\n",
       "      <th>PendingS</th>\n",
       "    </tr>\n",
       "  </thead>\n",
       "  <tbody>\n",
       "    <tr>\n",
       "      <th>0</th>\n",
       "      <td>0</td>\n",
       "      <td>405-8078784-5731545</td>\n",
       "      <td>04-30-22</td>\n",
       "      <td>Cancelled</td>\n",
       "      <td>Merchant</td>\n",
       "      <td>Amazon.in</td>\n",
       "      <td>Standard</td>\n",
       "      <td>T-shirt</td>\n",
       "      <td>S</td>\n",
       "      <td>On the Way</td>\n",
       "      <td>...</td>\n",
       "      <td>INR</td>\n",
       "      <td>647.62</td>\n",
       "      <td>MUMBAI</td>\n",
       "      <td>MAHARASHTRA</td>\n",
       "      <td>400081.0</td>\n",
       "      <td>IN</td>\n",
       "      <td>False</td>\n",
       "      <td>Easy Ship</td>\n",
       "      <td>NaN</td>\n",
       "      <td>NaN</td>\n",
       "    </tr>\n",
       "    <tr>\n",
       "      <th>1</th>\n",
       "      <td>1</td>\n",
       "      <td>171-9198151-1101146</td>\n",
       "      <td>04-30-22</td>\n",
       "      <td>Shipped - Delivered to Buyer</td>\n",
       "      <td>Merchant</td>\n",
       "      <td>Amazon.in</td>\n",
       "      <td>Standard</td>\n",
       "      <td>Shirt</td>\n",
       "      <td>3XL</td>\n",
       "      <td>Shipped</td>\n",
       "      <td>...</td>\n",
       "      <td>INR</td>\n",
       "      <td>406.00</td>\n",
       "      <td>BENGALURU</td>\n",
       "      <td>KARNATAKA</td>\n",
       "      <td>560085.0</td>\n",
       "      <td>IN</td>\n",
       "      <td>False</td>\n",
       "      <td>Easy Ship</td>\n",
       "      <td>NaN</td>\n",
       "      <td>NaN</td>\n",
       "    </tr>\n",
       "    <tr>\n",
       "      <th>2</th>\n",
       "      <td>2</td>\n",
       "      <td>404-0687676-7273146</td>\n",
       "      <td>04-30-22</td>\n",
       "      <td>Shipped</td>\n",
       "      <td>Amazon</td>\n",
       "      <td>Amazon.in</td>\n",
       "      <td>Expedited</td>\n",
       "      <td>Shirt</td>\n",
       "      <td>XL</td>\n",
       "      <td>Shipped</td>\n",
       "      <td>...</td>\n",
       "      <td>INR</td>\n",
       "      <td>329.00</td>\n",
       "      <td>NAVI MUMBAI</td>\n",
       "      <td>MAHARASHTRA</td>\n",
       "      <td>410210.0</td>\n",
       "      <td>IN</td>\n",
       "      <td>True</td>\n",
       "      <td>NaN</td>\n",
       "      <td>NaN</td>\n",
       "      <td>NaN</td>\n",
       "    </tr>\n",
       "    <tr>\n",
       "      <th>3</th>\n",
       "      <td>3</td>\n",
       "      <td>403-9615377-8133951</td>\n",
       "      <td>04-30-22</td>\n",
       "      <td>Cancelled</td>\n",
       "      <td>Merchant</td>\n",
       "      <td>Amazon.in</td>\n",
       "      <td>Standard</td>\n",
       "      <td>Blazzer</td>\n",
       "      <td>L</td>\n",
       "      <td>On the Way</td>\n",
       "      <td>...</td>\n",
       "      <td>INR</td>\n",
       "      <td>753.33</td>\n",
       "      <td>PUDUCHERRY</td>\n",
       "      <td>PUDUCHERRY</td>\n",
       "      <td>605008.0</td>\n",
       "      <td>IN</td>\n",
       "      <td>False</td>\n",
       "      <td>Easy Ship</td>\n",
       "      <td>NaN</td>\n",
       "      <td>NaN</td>\n",
       "    </tr>\n",
       "    <tr>\n",
       "      <th>4</th>\n",
       "      <td>4</td>\n",
       "      <td>407-1069790-7240320</td>\n",
       "      <td>04-30-22</td>\n",
       "      <td>Shipped</td>\n",
       "      <td>Amazon</td>\n",
       "      <td>Amazon.in</td>\n",
       "      <td>Expedited</td>\n",
       "      <td>Trousers</td>\n",
       "      <td>3XL</td>\n",
       "      <td>Shipped</td>\n",
       "      <td>...</td>\n",
       "      <td>INR</td>\n",
       "      <td>574.00</td>\n",
       "      <td>CHENNAI</td>\n",
       "      <td>TAMIL NADU</td>\n",
       "      <td>600073.0</td>\n",
       "      <td>IN</td>\n",
       "      <td>False</td>\n",
       "      <td>NaN</td>\n",
       "      <td>NaN</td>\n",
       "      <td>NaN</td>\n",
       "    </tr>\n",
       "  </tbody>\n",
       "</table>\n",
       "<p>5 rows × 21 columns</p>\n",
       "</div>"
      ],
      "text/plain": [
       "   index             Order ID      Date                        Status  \\\n",
       "0      0  405-8078784-5731545  04-30-22                     Cancelled   \n",
       "1      1  171-9198151-1101146  04-30-22  Shipped - Delivered to Buyer   \n",
       "2      2  404-0687676-7273146  04-30-22                       Shipped   \n",
       "3      3  403-9615377-8133951  04-30-22                     Cancelled   \n",
       "4      4  407-1069790-7240320  04-30-22                       Shipped   \n",
       "\n",
       "  Fulfilment Sales Channel ship-service-level  Category Size Courier Status  \\\n",
       "0   Merchant     Amazon.in           Standard   T-shirt    S     On the Way   \n",
       "1   Merchant     Amazon.in           Standard     Shirt  3XL        Shipped   \n",
       "2     Amazon     Amazon.in          Expedited     Shirt   XL        Shipped   \n",
       "3   Merchant     Amazon.in           Standard   Blazzer    L     On the Way   \n",
       "4     Amazon     Amazon.in          Expedited  Trousers  3XL        Shipped   \n",
       "\n",
       "   ...  currency  Amount    ship-city   ship-state ship-postal-code  \\\n",
       "0  ...       INR  647.62       MUMBAI  MAHARASHTRA         400081.0   \n",
       "1  ...       INR  406.00    BENGALURU    KARNATAKA         560085.0   \n",
       "2  ...       INR  329.00  NAVI MUMBAI  MAHARASHTRA         410210.0   \n",
       "3  ...       INR  753.33   PUDUCHERRY   PUDUCHERRY         605008.0   \n",
       "4  ...       INR  574.00      CHENNAI   TAMIL NADU         600073.0   \n",
       "\n",
       "   ship-country    B2B  fulfilled-by New  PendingS  \n",
       "0            IN  False     Easy Ship NaN       NaN  \n",
       "1            IN  False     Easy Ship NaN       NaN  \n",
       "2            IN   True           NaN NaN       NaN  \n",
       "3            IN  False     Easy Ship NaN       NaN  \n",
       "4            IN  False           NaN NaN       NaN  \n",
       "\n",
       "[5 rows x 21 columns]"
      ]
     },
     "execution_count": 13,
     "metadata": {},
     "output_type": "execute_result"
    }
   ],
   "source": [
    "df.head()"
   ]
  },
  {
   "cell_type": "code",
   "execution_count": 14,
   "id": "72582b09-c5ba-4ce9-bc89-538f54707ae5",
   "metadata": {},
   "outputs": [
    {
     "data": {
      "text/html": [
       "<div>\n",
       "<style scoped>\n",
       "    .dataframe tbody tr th:only-of-type {\n",
       "        vertical-align: middle;\n",
       "    }\n",
       "\n",
       "    .dataframe tbody tr th {\n",
       "        vertical-align: top;\n",
       "    }\n",
       "\n",
       "    .dataframe thead th {\n",
       "        text-align: right;\n",
       "    }\n",
       "</style>\n",
       "<table border=\"1\" class=\"dataframe\">\n",
       "  <thead>\n",
       "    <tr style=\"text-align: right;\">\n",
       "      <th></th>\n",
       "      <th>index</th>\n",
       "      <th>Order ID</th>\n",
       "      <th>Date</th>\n",
       "      <th>Status</th>\n",
       "      <th>Fulfilment</th>\n",
       "      <th>Sales Channel</th>\n",
       "      <th>ship-service-level</th>\n",
       "      <th>Category</th>\n",
       "      <th>Size</th>\n",
       "      <th>Courier Status</th>\n",
       "      <th>...</th>\n",
       "      <th>currency</th>\n",
       "      <th>Amount</th>\n",
       "      <th>ship-city</th>\n",
       "      <th>ship-state</th>\n",
       "      <th>ship-postal-code</th>\n",
       "      <th>ship-country</th>\n",
       "      <th>B2B</th>\n",
       "      <th>fulfilled-by</th>\n",
       "      <th>New</th>\n",
       "      <th>PendingS</th>\n",
       "    </tr>\n",
       "  </thead>\n",
       "  <tbody>\n",
       "    <tr>\n",
       "      <th>128971</th>\n",
       "      <td>128970</td>\n",
       "      <td>406-6001380-7673107</td>\n",
       "      <td>05-31-22</td>\n",
       "      <td>Shipped</td>\n",
       "      <td>Amazon</td>\n",
       "      <td>Amazon.in</td>\n",
       "      <td>Expedited</td>\n",
       "      <td>Shirt</td>\n",
       "      <td>XL</td>\n",
       "      <td>Shipped</td>\n",
       "      <td>...</td>\n",
       "      <td>INR</td>\n",
       "      <td>517.0</td>\n",
       "      <td>HYDERABAD</td>\n",
       "      <td>TELANGANA</td>\n",
       "      <td>500013.0</td>\n",
       "      <td>IN</td>\n",
       "      <td>False</td>\n",
       "      <td>NaN</td>\n",
       "      <td>NaN</td>\n",
       "      <td>NaN</td>\n",
       "    </tr>\n",
       "    <tr>\n",
       "      <th>128972</th>\n",
       "      <td>128971</td>\n",
       "      <td>402-9551604-7544318</td>\n",
       "      <td>05-31-22</td>\n",
       "      <td>Shipped</td>\n",
       "      <td>Amazon</td>\n",
       "      <td>Amazon.in</td>\n",
       "      <td>Expedited</td>\n",
       "      <td>T-shirt</td>\n",
       "      <td>M</td>\n",
       "      <td>Shipped</td>\n",
       "      <td>...</td>\n",
       "      <td>INR</td>\n",
       "      <td>999.0</td>\n",
       "      <td>GURUGRAM</td>\n",
       "      <td>HARYANA</td>\n",
       "      <td>122004.0</td>\n",
       "      <td>IN</td>\n",
       "      <td>False</td>\n",
       "      <td>NaN</td>\n",
       "      <td>NaN</td>\n",
       "      <td>NaN</td>\n",
       "    </tr>\n",
       "    <tr>\n",
       "      <th>128973</th>\n",
       "      <td>128972</td>\n",
       "      <td>407-9547469-3152358</td>\n",
       "      <td>05-31-22</td>\n",
       "      <td>Shipped</td>\n",
       "      <td>Amazon</td>\n",
       "      <td>Amazon.in</td>\n",
       "      <td>Expedited</td>\n",
       "      <td>Blazzer</td>\n",
       "      <td>XXL</td>\n",
       "      <td>Shipped</td>\n",
       "      <td>...</td>\n",
       "      <td>INR</td>\n",
       "      <td>690.0</td>\n",
       "      <td>HYDERABAD</td>\n",
       "      <td>TELANGANA</td>\n",
       "      <td>500049.0</td>\n",
       "      <td>IN</td>\n",
       "      <td>False</td>\n",
       "      <td>NaN</td>\n",
       "      <td>NaN</td>\n",
       "      <td>NaN</td>\n",
       "    </tr>\n",
       "    <tr>\n",
       "      <th>128974</th>\n",
       "      <td>128973</td>\n",
       "      <td>402-6184140-0545956</td>\n",
       "      <td>05-31-22</td>\n",
       "      <td>Shipped</td>\n",
       "      <td>Amazon</td>\n",
       "      <td>Amazon.in</td>\n",
       "      <td>Expedited</td>\n",
       "      <td>T-shirt</td>\n",
       "      <td>XS</td>\n",
       "      <td>Shipped</td>\n",
       "      <td>...</td>\n",
       "      <td>INR</td>\n",
       "      <td>1199.0</td>\n",
       "      <td>Halol</td>\n",
       "      <td>Gujarat</td>\n",
       "      <td>389350.0</td>\n",
       "      <td>IN</td>\n",
       "      <td>False</td>\n",
       "      <td>NaN</td>\n",
       "      <td>NaN</td>\n",
       "      <td>NaN</td>\n",
       "    </tr>\n",
       "    <tr>\n",
       "      <th>128975</th>\n",
       "      <td>128974</td>\n",
       "      <td>408-7436540-8728312</td>\n",
       "      <td>05-31-22</td>\n",
       "      <td>Shipped</td>\n",
       "      <td>Amazon</td>\n",
       "      <td>Amazon.in</td>\n",
       "      <td>Expedited</td>\n",
       "      <td>T-shirt</td>\n",
       "      <td>S</td>\n",
       "      <td>Shipped</td>\n",
       "      <td>...</td>\n",
       "      <td>INR</td>\n",
       "      <td>696.0</td>\n",
       "      <td>Raipur</td>\n",
       "      <td>CHHATTISGARH</td>\n",
       "      <td>492014.0</td>\n",
       "      <td>IN</td>\n",
       "      <td>False</td>\n",
       "      <td>NaN</td>\n",
       "      <td>NaN</td>\n",
       "      <td>NaN</td>\n",
       "    </tr>\n",
       "  </tbody>\n",
       "</table>\n",
       "<p>5 rows × 21 columns</p>\n",
       "</div>"
      ],
      "text/plain": [
       "         index             Order ID      Date   Status Fulfilment  \\\n",
       "128971  128970  406-6001380-7673107  05-31-22  Shipped     Amazon   \n",
       "128972  128971  402-9551604-7544318  05-31-22  Shipped     Amazon   \n",
       "128973  128972  407-9547469-3152358  05-31-22  Shipped     Amazon   \n",
       "128974  128973  402-6184140-0545956  05-31-22  Shipped     Amazon   \n",
       "128975  128974  408-7436540-8728312  05-31-22  Shipped     Amazon   \n",
       "\n",
       "       Sales Channel ship-service-level Category Size Courier Status  ...  \\\n",
       "128971     Amazon.in          Expedited    Shirt   XL        Shipped  ...   \n",
       "128972     Amazon.in          Expedited  T-shirt    M        Shipped  ...   \n",
       "128973     Amazon.in          Expedited  Blazzer  XXL        Shipped  ...   \n",
       "128974     Amazon.in          Expedited  T-shirt   XS        Shipped  ...   \n",
       "128975     Amazon.in          Expedited  T-shirt    S        Shipped  ...   \n",
       "\n",
       "        currency  Amount  ship-city    ship-state ship-postal-code  \\\n",
       "128971       INR   517.0  HYDERABAD     TELANGANA         500013.0   \n",
       "128972       INR   999.0   GURUGRAM       HARYANA         122004.0   \n",
       "128973       INR   690.0  HYDERABAD     TELANGANA         500049.0   \n",
       "128974       INR  1199.0      Halol       Gujarat         389350.0   \n",
       "128975       INR   696.0     Raipur  CHHATTISGARH         492014.0   \n",
       "\n",
       "        ship-country    B2B  fulfilled-by New  PendingS  \n",
       "128971            IN  False           NaN NaN       NaN  \n",
       "128972            IN  False           NaN NaN       NaN  \n",
       "128973            IN  False           NaN NaN       NaN  \n",
       "128974            IN  False           NaN NaN       NaN  \n",
       "128975            IN  False           NaN NaN       NaN  \n",
       "\n",
       "[5 rows x 21 columns]"
      ]
     },
     "execution_count": 14,
     "metadata": {},
     "output_type": "execute_result"
    }
   ],
   "source": [
    "df.tail()"
   ]
  },
  {
   "cell_type": "code",
   "execution_count": 15,
   "id": "67c4676a-2392-4a48-a5b8-52df67da4058",
   "metadata": {},
   "outputs": [],
   "source": [
    "df[\"currency\"]=df[\"currency\"].fillna(\"INR\")"
   ]
  },
  {
   "cell_type": "code",
   "execution_count": 16,
   "id": "b00f6d10-dfd7-45f4-b518-73ea03e5878f",
   "metadata": {},
   "outputs": [
    {
     "data": {
      "text/plain": [
       "index                      0\n",
       "Order ID                   0\n",
       "Date                       0\n",
       "Status                     0\n",
       "Fulfilment                 0\n",
       "Sales Channel              0\n",
       "ship-service-level         0\n",
       "Category                   0\n",
       "Size                       0\n",
       "Courier Status             0\n",
       "Qty                        0\n",
       "currency                   0\n",
       "Amount                  7800\n",
       "ship-city                 35\n",
       "ship-state                35\n",
       "ship-postal-code          35\n",
       "ship-country              35\n",
       "B2B                        0\n",
       "fulfilled-by           89713\n",
       "New                   128976\n",
       "PendingS              128976\n",
       "dtype: int64"
      ]
     },
     "execution_count": 16,
     "metadata": {},
     "output_type": "execute_result"
    }
   ],
   "source": [
    "df.isnull().sum()"
   ]
  },
  {
   "cell_type": "code",
   "execution_count": 17,
   "id": "136e58fb-5b8a-4b8a-98e6-cb9b0546abe0",
   "metadata": {},
   "outputs": [],
   "source": [
    "df[\"Amount\"]=df[\"Amount\"].fillna(0)"
   ]
  },
  {
   "cell_type": "code",
   "execution_count": 18,
   "id": "4778c042-e127-43ea-9240-0ec5f8e10d7b",
   "metadata": {},
   "outputs": [
    {
     "data": {
      "text/plain": [
       "index                      0\n",
       "Order ID                   0\n",
       "Date                       0\n",
       "Status                     0\n",
       "Fulfilment                 0\n",
       "Sales Channel              0\n",
       "ship-service-level         0\n",
       "Category                   0\n",
       "Size                       0\n",
       "Courier Status             0\n",
       "Qty                        0\n",
       "currency                   0\n",
       "Amount                     0\n",
       "ship-city                 35\n",
       "ship-state                35\n",
       "ship-postal-code          35\n",
       "ship-country              35\n",
       "B2B                        0\n",
       "fulfilled-by           89713\n",
       "New                   128976\n",
       "PendingS              128976\n",
       "dtype: int64"
      ]
     },
     "execution_count": 18,
     "metadata": {},
     "output_type": "execute_result"
    }
   ],
   "source": [
    "df.isnull().sum()"
   ]
  },
  {
   "cell_type": "code",
   "execution_count": 19,
   "id": "2ed58e3f-91c0-422f-bb85-e2705d773d9b",
   "metadata": {},
   "outputs": [],
   "source": [
    "df[\"ship-city\"]=df[\"ship-city\"].dropna()"
   ]
  },
  {
   "cell_type": "code",
   "execution_count": 20,
   "id": "64c2697a-1f49-4c7d-a212-f6236b1721bb",
   "metadata": {},
   "outputs": [],
   "source": [
    "df.dropna(subset=[\"ship-city\",\"ship-state\",\"ship-postal-code\",\"ship-country\"],inplace=True)"
   ]
  },
  {
   "cell_type": "code",
   "execution_count": 21,
   "id": "a6d45fb5-81fa-4c18-acd9-f5a60c9abd0a",
   "metadata": {},
   "outputs": [
    {
     "data": {
      "text/plain": [
       "index                      0\n",
       "Order ID                   0\n",
       "Date                       0\n",
       "Status                     0\n",
       "Fulfilment                 0\n",
       "Sales Channel              0\n",
       "ship-service-level         0\n",
       "Category                   0\n",
       "Size                       0\n",
       "Courier Status             0\n",
       "Qty                        0\n",
       "currency                   0\n",
       "Amount                     0\n",
       "ship-city                  0\n",
       "ship-state                 0\n",
       "ship-postal-code           0\n",
       "ship-country               0\n",
       "B2B                        0\n",
       "fulfilled-by           89691\n",
       "New                   128941\n",
       "PendingS              128941\n",
       "dtype: int64"
      ]
     },
     "execution_count": 21,
     "metadata": {},
     "output_type": "execute_result"
    }
   ],
   "source": [
    "df.isnull().sum()"
   ]
  },
  {
   "cell_type": "code",
   "execution_count": 22,
   "id": "fabc7ec1-8a65-46be-b1d4-3f7c2c895905",
   "metadata": {},
   "outputs": [],
   "source": [
    "df.drop(\"fulfilled-by\",axis=1,inplace=True)"
   ]
  },
  {
   "cell_type": "code",
   "execution_count": 23,
   "id": "60469da8-9e95-4fe3-bbe8-a2e1856ad8f2",
   "metadata": {},
   "outputs": [],
   "source": [
    "df.drop(\"New\",axis=1,inplace=True)"
   ]
  },
  {
   "cell_type": "code",
   "execution_count": 24,
   "id": "c637d6c5-0413-4479-91c8-9000e60bd5b4",
   "metadata": {},
   "outputs": [],
   "source": [
    "df.drop(\"PendingS\",axis=1,inplace=True)"
   ]
  },
  {
   "cell_type": "code",
   "execution_count": 25,
   "id": "9587c7b6-f67c-4867-8980-c717762b153d",
   "metadata": {},
   "outputs": [
    {
     "name": "stdout",
     "output_type": "stream",
     "text": [
      "<class 'pandas.core.frame.DataFrame'>\n",
      "Index: 128941 entries, 0 to 128975\n",
      "Data columns (total 18 columns):\n",
      " #   Column              Non-Null Count   Dtype  \n",
      "---  ------              --------------   -----  \n",
      " 0   index               128941 non-null  int64  \n",
      " 1   Order ID            128941 non-null  object \n",
      " 2   Date                128941 non-null  object \n",
      " 3   Status              128941 non-null  object \n",
      " 4   Fulfilment          128941 non-null  object \n",
      " 5   Sales Channel       128941 non-null  object \n",
      " 6   ship-service-level  128941 non-null  object \n",
      " 7   Category            128941 non-null  object \n",
      " 8   Size                128941 non-null  object \n",
      " 9   Courier Status      128941 non-null  object \n",
      " 10  Qty                 128941 non-null  int64  \n",
      " 11  currency            128941 non-null  object \n",
      " 12  Amount              128941 non-null  float64\n",
      " 13  ship-city           128941 non-null  object \n",
      " 14  ship-state          128941 non-null  object \n",
      " 15  ship-postal-code    128941 non-null  float64\n",
      " 16  ship-country        128941 non-null  object \n",
      " 17  B2B                 128941 non-null  bool   \n",
      "dtypes: bool(1), float64(2), int64(2), object(13)\n",
      "memory usage: 17.8+ MB\n"
     ]
    }
   ],
   "source": [
    "df.info()"
   ]
  },
  {
   "cell_type": "code",
   "execution_count": 26,
   "id": "a680d7ad-5693-4031-beac-45976136b0c4",
   "metadata": {},
   "outputs": [
    {
     "data": {
      "text/plain": [
       "index                 0\n",
       "Order ID              0\n",
       "Date                  0\n",
       "Status                0\n",
       "Fulfilment            0\n",
       "Sales Channel         0\n",
       "ship-service-level    0\n",
       "Category              0\n",
       "Size                  0\n",
       "Courier Status        0\n",
       "Qty                   0\n",
       "currency              0\n",
       "Amount                0\n",
       "ship-city             0\n",
       "ship-state            0\n",
       "ship-postal-code      0\n",
       "ship-country          0\n",
       "B2B                   0\n",
       "dtype: int64"
      ]
     },
     "execution_count": 26,
     "metadata": {},
     "output_type": "execute_result"
    }
   ],
   "source": [
    "df.isnull().sum()"
   ]
  },
  {
   "cell_type": "code",
   "execution_count": 27,
   "id": "7ccc95c8-6b48-4672-a979-963cf59c9102",
   "metadata": {},
   "outputs": [
    {
     "data": {
      "text/plain": [
       "(128941, 18)"
      ]
     },
     "execution_count": 27,
     "metadata": {},
     "output_type": "execute_result"
    }
   ],
   "source": [
    "df.shape"
   ]
  },
  {
   "cell_type": "code",
   "execution_count": 28,
   "id": "315faaea-1178-4c93-9827-327f8ec75ac1",
   "metadata": {},
   "outputs": [
    {
     "data": {
      "text/plain": [
       "Index(['index', 'Order ID', 'Date', 'Status', 'Fulfilment', 'Sales Channel',\n",
       "       'ship-service-level', 'Category', 'Size', 'Courier Status', 'Qty',\n",
       "       'currency', 'Amount', 'ship-city', 'ship-state', 'ship-postal-code',\n",
       "       'ship-country', 'B2B'],\n",
       "      dtype='object')"
      ]
     },
     "execution_count": 28,
     "metadata": {},
     "output_type": "execute_result"
    }
   ],
   "source": [
    "df.columns"
   ]
  },
  {
   "cell_type": "code",
   "execution_count": 29,
   "id": "2d5a3bb1-3eda-47c0-9379-cf7305befbc9",
   "metadata": {},
   "outputs": [
    {
     "data": {
      "text/plain": [
       "0         False\n",
       "1         False\n",
       "2         False\n",
       "3         False\n",
       "4         False\n",
       "          ...  \n",
       "128971    False\n",
       "128972    False\n",
       "128973    False\n",
       "128974    False\n",
       "128975    False\n",
       "Length: 128941, dtype: bool"
      ]
     },
     "execution_count": 29,
     "metadata": {},
     "output_type": "execute_result"
    }
   ],
   "source": [
    "df.duplicated()"
   ]
  },
  {
   "cell_type": "code",
   "execution_count": 30,
   "id": "2f7dde4c-f0e9-48d8-99cb-c2b31c75c17f",
   "metadata": {},
   "outputs": [
    {
     "data": {
      "text/html": [
       "<div>\n",
       "<style scoped>\n",
       "    .dataframe tbody tr th:only-of-type {\n",
       "        vertical-align: middle;\n",
       "    }\n",
       "\n",
       "    .dataframe tbody tr th {\n",
       "        vertical-align: top;\n",
       "    }\n",
       "\n",
       "    .dataframe thead th {\n",
       "        text-align: right;\n",
       "    }\n",
       "</style>\n",
       "<table border=\"1\" class=\"dataframe\">\n",
       "  <thead>\n",
       "    <tr style=\"text-align: right;\">\n",
       "      <th></th>\n",
       "      <th>index</th>\n",
       "      <th>Order ID</th>\n",
       "      <th>Date</th>\n",
       "      <th>Status</th>\n",
       "      <th>Fulfilment</th>\n",
       "      <th>Sales Channel</th>\n",
       "      <th>ship-service-level</th>\n",
       "      <th>Category</th>\n",
       "      <th>Size</th>\n",
       "      <th>Courier Status</th>\n",
       "      <th>Qty</th>\n",
       "      <th>currency</th>\n",
       "      <th>Amount</th>\n",
       "      <th>ship-city</th>\n",
       "      <th>ship-state</th>\n",
       "      <th>ship-postal-code</th>\n",
       "      <th>ship-country</th>\n",
       "      <th>B2B</th>\n",
       "    </tr>\n",
       "  </thead>\n",
       "  <tbody>\n",
       "    <tr>\n",
       "      <th>201</th>\n",
       "      <td>6</td>\n",
       "      <td>408-5748499-6859555</td>\n",
       "      <td>04-30-22</td>\n",
       "      <td>Shipped</td>\n",
       "      <td>Amazon</td>\n",
       "      <td>Amazon.in</td>\n",
       "      <td>Expedited</td>\n",
       "      <td>T-shirt</td>\n",
       "      <td>L</td>\n",
       "      <td>Shipped</td>\n",
       "      <td>1</td>\n",
       "      <td>INR</td>\n",
       "      <td>653.0</td>\n",
       "      <td>CHANDIGARH</td>\n",
       "      <td>CHANDIGARH</td>\n",
       "      <td>160036.0</td>\n",
       "      <td>IN</td>\n",
       "      <td>False</td>\n",
       "    </tr>\n",
       "    <tr>\n",
       "      <th>202</th>\n",
       "      <td>7</td>\n",
       "      <td>406-7807733-3785945</td>\n",
       "      <td>04-30-22</td>\n",
       "      <td>Shipped - Delivered to Buyer</td>\n",
       "      <td>Merchant</td>\n",
       "      <td>Amazon.in</td>\n",
       "      <td>Standard</td>\n",
       "      <td>Shirt</td>\n",
       "      <td>S</td>\n",
       "      <td>Shipped</td>\n",
       "      <td>1</td>\n",
       "      <td>INR</td>\n",
       "      <td>399.0</td>\n",
       "      <td>HYDERABAD</td>\n",
       "      <td>TELANGANA</td>\n",
       "      <td>500032.0</td>\n",
       "      <td>IN</td>\n",
       "      <td>False</td>\n",
       "    </tr>\n",
       "    <tr>\n",
       "      <th>203</th>\n",
       "      <td>8</td>\n",
       "      <td>407-5443024-5233168</td>\n",
       "      <td>04-30-22</td>\n",
       "      <td>Cancelled</td>\n",
       "      <td>Amazon</td>\n",
       "      <td>Amazon.in</td>\n",
       "      <td>Expedited</td>\n",
       "      <td>T-shirt</td>\n",
       "      <td>3XL</td>\n",
       "      <td>Cancelled</td>\n",
       "      <td>0</td>\n",
       "      <td>INR</td>\n",
       "      <td>0.0</td>\n",
       "      <td>HYDERABAD</td>\n",
       "      <td>TELANGANA</td>\n",
       "      <td>500008.0</td>\n",
       "      <td>IN</td>\n",
       "      <td>False</td>\n",
       "    </tr>\n",
       "    <tr>\n",
       "      <th>204</th>\n",
       "      <td>9</td>\n",
       "      <td>402-4393761-0311520</td>\n",
       "      <td>04-30-22</td>\n",
       "      <td>Shipped</td>\n",
       "      <td>Amazon</td>\n",
       "      <td>Amazon.in</td>\n",
       "      <td>Expedited</td>\n",
       "      <td>Shirt</td>\n",
       "      <td>XXL</td>\n",
       "      <td>Shipped</td>\n",
       "      <td>1</td>\n",
       "      <td>INR</td>\n",
       "      <td>363.0</td>\n",
       "      <td>Chennai</td>\n",
       "      <td>TAMIL NADU</td>\n",
       "      <td>600041.0</td>\n",
       "      <td>IN</td>\n",
       "      <td>False</td>\n",
       "    </tr>\n",
       "    <tr>\n",
       "      <th>205</th>\n",
       "      <td>10</td>\n",
       "      <td>407-5633625-6970741</td>\n",
       "      <td>04-30-22</td>\n",
       "      <td>Shipped</td>\n",
       "      <td>Amazon</td>\n",
       "      <td>Amazon.in</td>\n",
       "      <td>Expedited</td>\n",
       "      <td>Shirt</td>\n",
       "      <td>S</td>\n",
       "      <td>Shipped</td>\n",
       "      <td>1</td>\n",
       "      <td>INR</td>\n",
       "      <td>685.0</td>\n",
       "      <td>CHENNAI</td>\n",
       "      <td>TAMIL NADU</td>\n",
       "      <td>600073.0</td>\n",
       "      <td>IN</td>\n",
       "      <td>False</td>\n",
       "    </tr>\n",
       "    <tr>\n",
       "      <th>...</th>\n",
       "      <td>...</td>\n",
       "      <td>...</td>\n",
       "      <td>...</td>\n",
       "      <td>...</td>\n",
       "      <td>...</td>\n",
       "      <td>...</td>\n",
       "      <td>...</td>\n",
       "      <td>...</td>\n",
       "      <td>...</td>\n",
       "      <td>...</td>\n",
       "      <td>...</td>\n",
       "      <td>...</td>\n",
       "      <td>...</td>\n",
       "      <td>...</td>\n",
       "      <td>...</td>\n",
       "      <td>...</td>\n",
       "      <td>...</td>\n",
       "      <td>...</td>\n",
       "    </tr>\n",
       "    <tr>\n",
       "      <th>6640</th>\n",
       "      <td>6278</td>\n",
       "      <td>171-5170733-7855514</td>\n",
       "      <td>04-26-22</td>\n",
       "      <td>Shipped - Delivered to Buyer</td>\n",
       "      <td>Merchant</td>\n",
       "      <td>Amazon.in</td>\n",
       "      <td>Standard</td>\n",
       "      <td>T-shirt</td>\n",
       "      <td>XS</td>\n",
       "      <td>Shipped</td>\n",
       "      <td>1</td>\n",
       "      <td>INR</td>\n",
       "      <td>582.0</td>\n",
       "      <td>HYDERABAD</td>\n",
       "      <td>TELANGANA</td>\n",
       "      <td>500083.0</td>\n",
       "      <td>IN</td>\n",
       "      <td>False</td>\n",
       "    </tr>\n",
       "    <tr>\n",
       "      <th>6641</th>\n",
       "      <td>6279</td>\n",
       "      <td>403-8137343-5206760</td>\n",
       "      <td>04-26-22</td>\n",
       "      <td>Shipped - Delivered to Buyer</td>\n",
       "      <td>Merchant</td>\n",
       "      <td>Amazon.in</td>\n",
       "      <td>Standard</td>\n",
       "      <td>T-shirt</td>\n",
       "      <td>XS</td>\n",
       "      <td>Shipped</td>\n",
       "      <td>1</td>\n",
       "      <td>INR</td>\n",
       "      <td>801.0</td>\n",
       "      <td>KALPETTA</td>\n",
       "      <td>KERALA</td>\n",
       "      <td>673122.0</td>\n",
       "      <td>IN</td>\n",
       "      <td>False</td>\n",
       "    </tr>\n",
       "    <tr>\n",
       "      <th>6642</th>\n",
       "      <td>6280</td>\n",
       "      <td>408-1575454-3263526</td>\n",
       "      <td>04-26-22</td>\n",
       "      <td>Shipped - Returned to Seller</td>\n",
       "      <td>Merchant</td>\n",
       "      <td>Amazon.in</td>\n",
       "      <td>Standard</td>\n",
       "      <td>Blazzer</td>\n",
       "      <td>M</td>\n",
       "      <td>Shipped</td>\n",
       "      <td>1</td>\n",
       "      <td>INR</td>\n",
       "      <td>690.0</td>\n",
       "      <td>CHENNAI</td>\n",
       "      <td>TAMIL NADU</td>\n",
       "      <td>600049.0</td>\n",
       "      <td>IN</td>\n",
       "      <td>False</td>\n",
       "    </tr>\n",
       "    <tr>\n",
       "      <th>6643</th>\n",
       "      <td>6281</td>\n",
       "      <td>171-2918708-7197155</td>\n",
       "      <td>04-26-22</td>\n",
       "      <td>Shipped - Delivered to Buyer</td>\n",
       "      <td>Merchant</td>\n",
       "      <td>Amazon.in</td>\n",
       "      <td>Standard</td>\n",
       "      <td>Blazzer</td>\n",
       "      <td>XXL</td>\n",
       "      <td>Shipped</td>\n",
       "      <td>1</td>\n",
       "      <td>INR</td>\n",
       "      <td>658.0</td>\n",
       "      <td>PUNE</td>\n",
       "      <td>MAHARASHTRA</td>\n",
       "      <td>412207.0</td>\n",
       "      <td>IN</td>\n",
       "      <td>False</td>\n",
       "    </tr>\n",
       "    <tr>\n",
       "      <th>6644</th>\n",
       "      <td>6282</td>\n",
       "      <td>406-7244956-4740355</td>\n",
       "      <td>04-26-22</td>\n",
       "      <td>Shipped</td>\n",
       "      <td>Amazon</td>\n",
       "      <td>Amazon.in</td>\n",
       "      <td>Expedited</td>\n",
       "      <td>Trousers</td>\n",
       "      <td>XL</td>\n",
       "      <td>Shipped</td>\n",
       "      <td>1</td>\n",
       "      <td>INR</td>\n",
       "      <td>540.0</td>\n",
       "      <td>RAJKOT</td>\n",
       "      <td>Gujarat</td>\n",
       "      <td>360001.0</td>\n",
       "      <td>IN</td>\n",
       "      <td>False</td>\n",
       "    </tr>\n",
       "  </tbody>\n",
       "</table>\n",
       "<p>166 rows × 18 columns</p>\n",
       "</div>"
      ],
      "text/plain": [
       "      index             Order ID      Date                        Status  \\\n",
       "201       6  408-5748499-6859555  04-30-22                       Shipped   \n",
       "202       7  406-7807733-3785945  04-30-22  Shipped - Delivered to Buyer   \n",
       "203       8  407-5443024-5233168  04-30-22                     Cancelled   \n",
       "204       9  402-4393761-0311520  04-30-22                       Shipped   \n",
       "205      10  407-5633625-6970741  04-30-22                       Shipped   \n",
       "...     ...                  ...       ...                           ...   \n",
       "6640   6278  171-5170733-7855514  04-26-22  Shipped - Delivered to Buyer   \n",
       "6641   6279  403-8137343-5206760  04-26-22  Shipped - Delivered to Buyer   \n",
       "6642   6280  408-1575454-3263526  04-26-22  Shipped - Returned to Seller   \n",
       "6643   6281  171-2918708-7197155  04-26-22  Shipped - Delivered to Buyer   \n",
       "6644   6282  406-7244956-4740355  04-26-22                       Shipped   \n",
       "\n",
       "     Fulfilment Sales Channel ship-service-level  Category Size  \\\n",
       "201      Amazon     Amazon.in          Expedited   T-shirt    L   \n",
       "202    Merchant     Amazon.in           Standard     Shirt    S   \n",
       "203      Amazon     Amazon.in          Expedited   T-shirt  3XL   \n",
       "204      Amazon     Amazon.in          Expedited     Shirt  XXL   \n",
       "205      Amazon     Amazon.in          Expedited     Shirt    S   \n",
       "...         ...           ...                ...       ...  ...   \n",
       "6640   Merchant     Amazon.in           Standard   T-shirt   XS   \n",
       "6641   Merchant     Amazon.in           Standard   T-shirt   XS   \n",
       "6642   Merchant     Amazon.in           Standard   Blazzer    M   \n",
       "6643   Merchant     Amazon.in           Standard   Blazzer  XXL   \n",
       "6644     Amazon     Amazon.in          Expedited  Trousers   XL   \n",
       "\n",
       "     Courier Status  Qty currency  Amount   ship-city   ship-state  \\\n",
       "201         Shipped    1      INR   653.0  CHANDIGARH   CHANDIGARH   \n",
       "202         Shipped    1      INR   399.0   HYDERABAD    TELANGANA   \n",
       "203       Cancelled    0      INR     0.0   HYDERABAD    TELANGANA   \n",
       "204         Shipped    1      INR   363.0     Chennai   TAMIL NADU   \n",
       "205         Shipped    1      INR   685.0     CHENNAI   TAMIL NADU   \n",
       "...             ...  ...      ...     ...         ...          ...   \n",
       "6640        Shipped    1      INR   582.0   HYDERABAD    TELANGANA   \n",
       "6641        Shipped    1      INR   801.0    KALPETTA       KERALA   \n",
       "6642        Shipped    1      INR   690.0     CHENNAI   TAMIL NADU   \n",
       "6643        Shipped    1      INR   658.0        PUNE  MAHARASHTRA   \n",
       "6644        Shipped    1      INR   540.0      RAJKOT      Gujarat   \n",
       "\n",
       "      ship-postal-code ship-country    B2B  \n",
       "201           160036.0           IN  False  \n",
       "202           500032.0           IN  False  \n",
       "203           500008.0           IN  False  \n",
       "204           600041.0           IN  False  \n",
       "205           600073.0           IN  False  \n",
       "...                ...          ...    ...  \n",
       "6640          500083.0           IN  False  \n",
       "6641          673122.0           IN  False  \n",
       "6642          600049.0           IN  False  \n",
       "6643          412207.0           IN  False  \n",
       "6644          360001.0           IN  False  \n",
       "\n",
       "[166 rows x 18 columns]"
      ]
     },
     "execution_count": 30,
     "metadata": {},
     "output_type": "execute_result"
    }
   ],
   "source": [
    "df[df.duplicated()]"
   ]
  },
  {
   "cell_type": "code",
   "execution_count": 31,
   "id": "efa44b21-365e-4b48-abea-f53efa107b54",
   "metadata": {},
   "outputs": [
    {
     "data": {
      "text/plain": [
       "166"
      ]
     },
     "execution_count": 31,
     "metadata": {},
     "output_type": "execute_result"
    }
   ],
   "source": [
    "df.duplicated().sum()"
   ]
  },
  {
   "cell_type": "code",
   "execution_count": 32,
   "id": "b11f5ca8-010a-4a6a-a48d-8c0e77b36c0c",
   "metadata": {},
   "outputs": [
    {
     "data": {
      "text/html": [
       "<div>\n",
       "<style scoped>\n",
       "    .dataframe tbody tr th:only-of-type {\n",
       "        vertical-align: middle;\n",
       "    }\n",
       "\n",
       "    .dataframe tbody tr th {\n",
       "        vertical-align: top;\n",
       "    }\n",
       "\n",
       "    .dataframe thead th {\n",
       "        text-align: right;\n",
       "    }\n",
       "</style>\n",
       "<table border=\"1\" class=\"dataframe\">\n",
       "  <thead>\n",
       "    <tr style=\"text-align: right;\">\n",
       "      <th></th>\n",
       "      <th>index</th>\n",
       "      <th>Order ID</th>\n",
       "      <th>Date</th>\n",
       "      <th>Status</th>\n",
       "      <th>Fulfilment</th>\n",
       "      <th>Sales Channel</th>\n",
       "      <th>ship-service-level</th>\n",
       "      <th>Category</th>\n",
       "      <th>Size</th>\n",
       "      <th>Courier Status</th>\n",
       "      <th>Qty</th>\n",
       "      <th>currency</th>\n",
       "      <th>Amount</th>\n",
       "      <th>ship-city</th>\n",
       "      <th>ship-state</th>\n",
       "      <th>ship-postal-code</th>\n",
       "      <th>ship-country</th>\n",
       "      <th>B2B</th>\n",
       "    </tr>\n",
       "  </thead>\n",
       "  <tbody>\n",
       "    <tr>\n",
       "      <th>201</th>\n",
       "      <td>6</td>\n",
       "      <td>408-5748499-6859555</td>\n",
       "      <td>04-30-22</td>\n",
       "      <td>Shipped</td>\n",
       "      <td>Amazon</td>\n",
       "      <td>Amazon.in</td>\n",
       "      <td>Expedited</td>\n",
       "      <td>T-shirt</td>\n",
       "      <td>L</td>\n",
       "      <td>Shipped</td>\n",
       "      <td>1</td>\n",
       "      <td>INR</td>\n",
       "      <td>653.0</td>\n",
       "      <td>CHANDIGARH</td>\n",
       "      <td>CHANDIGARH</td>\n",
       "      <td>160036.0</td>\n",
       "      <td>IN</td>\n",
       "      <td>False</td>\n",
       "    </tr>\n",
       "    <tr>\n",
       "      <th>202</th>\n",
       "      <td>7</td>\n",
       "      <td>406-7807733-3785945</td>\n",
       "      <td>04-30-22</td>\n",
       "      <td>Shipped - Delivered to Buyer</td>\n",
       "      <td>Merchant</td>\n",
       "      <td>Amazon.in</td>\n",
       "      <td>Standard</td>\n",
       "      <td>Shirt</td>\n",
       "      <td>S</td>\n",
       "      <td>Shipped</td>\n",
       "      <td>1</td>\n",
       "      <td>INR</td>\n",
       "      <td>399.0</td>\n",
       "      <td>HYDERABAD</td>\n",
       "      <td>TELANGANA</td>\n",
       "      <td>500032.0</td>\n",
       "      <td>IN</td>\n",
       "      <td>False</td>\n",
       "    </tr>\n",
       "    <tr>\n",
       "      <th>203</th>\n",
       "      <td>8</td>\n",
       "      <td>407-5443024-5233168</td>\n",
       "      <td>04-30-22</td>\n",
       "      <td>Cancelled</td>\n",
       "      <td>Amazon</td>\n",
       "      <td>Amazon.in</td>\n",
       "      <td>Expedited</td>\n",
       "      <td>T-shirt</td>\n",
       "      <td>3XL</td>\n",
       "      <td>Cancelled</td>\n",
       "      <td>0</td>\n",
       "      <td>INR</td>\n",
       "      <td>0.0</td>\n",
       "      <td>HYDERABAD</td>\n",
       "      <td>TELANGANA</td>\n",
       "      <td>500008.0</td>\n",
       "      <td>IN</td>\n",
       "      <td>False</td>\n",
       "    </tr>\n",
       "    <tr>\n",
       "      <th>204</th>\n",
       "      <td>9</td>\n",
       "      <td>402-4393761-0311520</td>\n",
       "      <td>04-30-22</td>\n",
       "      <td>Shipped</td>\n",
       "      <td>Amazon</td>\n",
       "      <td>Amazon.in</td>\n",
       "      <td>Expedited</td>\n",
       "      <td>Shirt</td>\n",
       "      <td>XXL</td>\n",
       "      <td>Shipped</td>\n",
       "      <td>1</td>\n",
       "      <td>INR</td>\n",
       "      <td>363.0</td>\n",
       "      <td>Chennai</td>\n",
       "      <td>TAMIL NADU</td>\n",
       "      <td>600041.0</td>\n",
       "      <td>IN</td>\n",
       "      <td>False</td>\n",
       "    </tr>\n",
       "    <tr>\n",
       "      <th>205</th>\n",
       "      <td>10</td>\n",
       "      <td>407-5633625-6970741</td>\n",
       "      <td>04-30-22</td>\n",
       "      <td>Shipped</td>\n",
       "      <td>Amazon</td>\n",
       "      <td>Amazon.in</td>\n",
       "      <td>Expedited</td>\n",
       "      <td>Shirt</td>\n",
       "      <td>S</td>\n",
       "      <td>Shipped</td>\n",
       "      <td>1</td>\n",
       "      <td>INR</td>\n",
       "      <td>685.0</td>\n",
       "      <td>CHENNAI</td>\n",
       "      <td>TAMIL NADU</td>\n",
       "      <td>600073.0</td>\n",
       "      <td>IN</td>\n",
       "      <td>False</td>\n",
       "    </tr>\n",
       "    <tr>\n",
       "      <th>...</th>\n",
       "      <td>...</td>\n",
       "      <td>...</td>\n",
       "      <td>...</td>\n",
       "      <td>...</td>\n",
       "      <td>...</td>\n",
       "      <td>...</td>\n",
       "      <td>...</td>\n",
       "      <td>...</td>\n",
       "      <td>...</td>\n",
       "      <td>...</td>\n",
       "      <td>...</td>\n",
       "      <td>...</td>\n",
       "      <td>...</td>\n",
       "      <td>...</td>\n",
       "      <td>...</td>\n",
       "      <td>...</td>\n",
       "      <td>...</td>\n",
       "      <td>...</td>\n",
       "    </tr>\n",
       "    <tr>\n",
       "      <th>6640</th>\n",
       "      <td>6278</td>\n",
       "      <td>171-5170733-7855514</td>\n",
       "      <td>04-26-22</td>\n",
       "      <td>Shipped - Delivered to Buyer</td>\n",
       "      <td>Merchant</td>\n",
       "      <td>Amazon.in</td>\n",
       "      <td>Standard</td>\n",
       "      <td>T-shirt</td>\n",
       "      <td>XS</td>\n",
       "      <td>Shipped</td>\n",
       "      <td>1</td>\n",
       "      <td>INR</td>\n",
       "      <td>582.0</td>\n",
       "      <td>HYDERABAD</td>\n",
       "      <td>TELANGANA</td>\n",
       "      <td>500083.0</td>\n",
       "      <td>IN</td>\n",
       "      <td>False</td>\n",
       "    </tr>\n",
       "    <tr>\n",
       "      <th>6641</th>\n",
       "      <td>6279</td>\n",
       "      <td>403-8137343-5206760</td>\n",
       "      <td>04-26-22</td>\n",
       "      <td>Shipped - Delivered to Buyer</td>\n",
       "      <td>Merchant</td>\n",
       "      <td>Amazon.in</td>\n",
       "      <td>Standard</td>\n",
       "      <td>T-shirt</td>\n",
       "      <td>XS</td>\n",
       "      <td>Shipped</td>\n",
       "      <td>1</td>\n",
       "      <td>INR</td>\n",
       "      <td>801.0</td>\n",
       "      <td>KALPETTA</td>\n",
       "      <td>KERALA</td>\n",
       "      <td>673122.0</td>\n",
       "      <td>IN</td>\n",
       "      <td>False</td>\n",
       "    </tr>\n",
       "    <tr>\n",
       "      <th>6642</th>\n",
       "      <td>6280</td>\n",
       "      <td>408-1575454-3263526</td>\n",
       "      <td>04-26-22</td>\n",
       "      <td>Shipped - Returned to Seller</td>\n",
       "      <td>Merchant</td>\n",
       "      <td>Amazon.in</td>\n",
       "      <td>Standard</td>\n",
       "      <td>Blazzer</td>\n",
       "      <td>M</td>\n",
       "      <td>Shipped</td>\n",
       "      <td>1</td>\n",
       "      <td>INR</td>\n",
       "      <td>690.0</td>\n",
       "      <td>CHENNAI</td>\n",
       "      <td>TAMIL NADU</td>\n",
       "      <td>600049.0</td>\n",
       "      <td>IN</td>\n",
       "      <td>False</td>\n",
       "    </tr>\n",
       "    <tr>\n",
       "      <th>6643</th>\n",
       "      <td>6281</td>\n",
       "      <td>171-2918708-7197155</td>\n",
       "      <td>04-26-22</td>\n",
       "      <td>Shipped - Delivered to Buyer</td>\n",
       "      <td>Merchant</td>\n",
       "      <td>Amazon.in</td>\n",
       "      <td>Standard</td>\n",
       "      <td>Blazzer</td>\n",
       "      <td>XXL</td>\n",
       "      <td>Shipped</td>\n",
       "      <td>1</td>\n",
       "      <td>INR</td>\n",
       "      <td>658.0</td>\n",
       "      <td>PUNE</td>\n",
       "      <td>MAHARASHTRA</td>\n",
       "      <td>412207.0</td>\n",
       "      <td>IN</td>\n",
       "      <td>False</td>\n",
       "    </tr>\n",
       "    <tr>\n",
       "      <th>6644</th>\n",
       "      <td>6282</td>\n",
       "      <td>406-7244956-4740355</td>\n",
       "      <td>04-26-22</td>\n",
       "      <td>Shipped</td>\n",
       "      <td>Amazon</td>\n",
       "      <td>Amazon.in</td>\n",
       "      <td>Expedited</td>\n",
       "      <td>Trousers</td>\n",
       "      <td>XL</td>\n",
       "      <td>Shipped</td>\n",
       "      <td>1</td>\n",
       "      <td>INR</td>\n",
       "      <td>540.0</td>\n",
       "      <td>RAJKOT</td>\n",
       "      <td>Gujarat</td>\n",
       "      <td>360001.0</td>\n",
       "      <td>IN</td>\n",
       "      <td>False</td>\n",
       "    </tr>\n",
       "  </tbody>\n",
       "</table>\n",
       "<p>166 rows × 18 columns</p>\n",
       "</div>"
      ],
      "text/plain": [
       "      index             Order ID      Date                        Status  \\\n",
       "201       6  408-5748499-6859555  04-30-22                       Shipped   \n",
       "202       7  406-7807733-3785945  04-30-22  Shipped - Delivered to Buyer   \n",
       "203       8  407-5443024-5233168  04-30-22                     Cancelled   \n",
       "204       9  402-4393761-0311520  04-30-22                       Shipped   \n",
       "205      10  407-5633625-6970741  04-30-22                       Shipped   \n",
       "...     ...                  ...       ...                           ...   \n",
       "6640   6278  171-5170733-7855514  04-26-22  Shipped - Delivered to Buyer   \n",
       "6641   6279  403-8137343-5206760  04-26-22  Shipped - Delivered to Buyer   \n",
       "6642   6280  408-1575454-3263526  04-26-22  Shipped - Returned to Seller   \n",
       "6643   6281  171-2918708-7197155  04-26-22  Shipped - Delivered to Buyer   \n",
       "6644   6282  406-7244956-4740355  04-26-22                       Shipped   \n",
       "\n",
       "     Fulfilment Sales Channel ship-service-level  Category Size  \\\n",
       "201      Amazon     Amazon.in          Expedited   T-shirt    L   \n",
       "202    Merchant     Amazon.in           Standard     Shirt    S   \n",
       "203      Amazon     Amazon.in          Expedited   T-shirt  3XL   \n",
       "204      Amazon     Amazon.in          Expedited     Shirt  XXL   \n",
       "205      Amazon     Amazon.in          Expedited     Shirt    S   \n",
       "...         ...           ...                ...       ...  ...   \n",
       "6640   Merchant     Amazon.in           Standard   T-shirt   XS   \n",
       "6641   Merchant     Amazon.in           Standard   T-shirt   XS   \n",
       "6642   Merchant     Amazon.in           Standard   Blazzer    M   \n",
       "6643   Merchant     Amazon.in           Standard   Blazzer  XXL   \n",
       "6644     Amazon     Amazon.in          Expedited  Trousers   XL   \n",
       "\n",
       "     Courier Status  Qty currency  Amount   ship-city   ship-state  \\\n",
       "201         Shipped    1      INR   653.0  CHANDIGARH   CHANDIGARH   \n",
       "202         Shipped    1      INR   399.0   HYDERABAD    TELANGANA   \n",
       "203       Cancelled    0      INR     0.0   HYDERABAD    TELANGANA   \n",
       "204         Shipped    1      INR   363.0     Chennai   TAMIL NADU   \n",
       "205         Shipped    1      INR   685.0     CHENNAI   TAMIL NADU   \n",
       "...             ...  ...      ...     ...         ...          ...   \n",
       "6640        Shipped    1      INR   582.0   HYDERABAD    TELANGANA   \n",
       "6641        Shipped    1      INR   801.0    KALPETTA       KERALA   \n",
       "6642        Shipped    1      INR   690.0     CHENNAI   TAMIL NADU   \n",
       "6643        Shipped    1      INR   658.0        PUNE  MAHARASHTRA   \n",
       "6644        Shipped    1      INR   540.0      RAJKOT      Gujarat   \n",
       "\n",
       "      ship-postal-code ship-country    B2B  \n",
       "201           160036.0           IN  False  \n",
       "202           500032.0           IN  False  \n",
       "203           500008.0           IN  False  \n",
       "204           600041.0           IN  False  \n",
       "205           600073.0           IN  False  \n",
       "...                ...          ...    ...  \n",
       "6640          500083.0           IN  False  \n",
       "6641          673122.0           IN  False  \n",
       "6642          600049.0           IN  False  \n",
       "6643          412207.0           IN  False  \n",
       "6644          360001.0           IN  False  \n",
       "\n",
       "[166 rows x 18 columns]"
      ]
     },
     "execution_count": 32,
     "metadata": {},
     "output_type": "execute_result"
    }
   ],
   "source": [
    "df[df.duplicated()]"
   ]
  },
  {
   "cell_type": "code",
   "execution_count": 33,
   "id": "282b2918-ad4d-4170-8d55-ab14732d8101",
   "metadata": {},
   "outputs": [],
   "source": [
    "df.drop_duplicates(inplace=True)\n"
   ]
  },
  {
   "cell_type": "code",
   "execution_count": 34,
   "id": "4e374912-7f65-4105-bf42-eea4b2aef430",
   "metadata": {},
   "outputs": [
    {
     "data": {
      "text/plain": [
       "(128775, 18)"
      ]
     },
     "execution_count": 34,
     "metadata": {},
     "output_type": "execute_result"
    }
   ],
   "source": [
    "df.shape"
   ]
  },
  {
   "cell_type": "code",
   "execution_count": 35,
   "id": "4b155879-7a6f-4b02-bbb9-7fa8e3e721db",
   "metadata": {},
   "outputs": [
    {
     "data": {
      "text/plain": [
       "0"
      ]
     },
     "execution_count": 35,
     "metadata": {},
     "output_type": "execute_result"
    }
   ],
   "source": [
    "df.duplicated().sum()"
   ]
  },
  {
   "cell_type": "code",
   "execution_count": null,
   "id": "cf116315-0913-41d0-aedf-a30bd3972d02",
   "metadata": {},
   "outputs": [],
   "source": []
  },
  {
   "cell_type": "code",
   "execution_count": 36,
   "id": "15a415e4-ac4e-429f-a60b-4181c1edd33f",
   "metadata": {},
   "outputs": [],
   "source": [
    "### All the Duplicates has been removed"
   ]
  },
  {
   "cell_type": "code",
   "execution_count": 37,
   "id": "ff891fb2-f885-484a-9382-eef7f44981c6",
   "metadata": {},
   "outputs": [
    {
     "data": {
      "text/html": [
       "<div>\n",
       "<style scoped>\n",
       "    .dataframe tbody tr th:only-of-type {\n",
       "        vertical-align: middle;\n",
       "    }\n",
       "\n",
       "    .dataframe tbody tr th {\n",
       "        vertical-align: top;\n",
       "    }\n",
       "\n",
       "    .dataframe thead th {\n",
       "        text-align: right;\n",
       "    }\n",
       "</style>\n",
       "<table border=\"1\" class=\"dataframe\">\n",
       "  <thead>\n",
       "    <tr style=\"text-align: right;\">\n",
       "      <th></th>\n",
       "      <th>index</th>\n",
       "      <th>Order ID</th>\n",
       "      <th>Date</th>\n",
       "      <th>Status</th>\n",
       "      <th>Fulfilment</th>\n",
       "      <th>Sales Channel</th>\n",
       "      <th>ship-service-level</th>\n",
       "      <th>Category</th>\n",
       "      <th>Size</th>\n",
       "      <th>Courier Status</th>\n",
       "      <th>Qty</th>\n",
       "      <th>currency</th>\n",
       "      <th>Amount</th>\n",
       "      <th>ship-city</th>\n",
       "      <th>ship-state</th>\n",
       "      <th>ship-postal-code</th>\n",
       "      <th>ship-country</th>\n",
       "      <th>B2B</th>\n",
       "    </tr>\n",
       "  </thead>\n",
       "  <tbody>\n",
       "    <tr>\n",
       "      <th>0</th>\n",
       "      <td>0</td>\n",
       "      <td>405-8078784-5731545</td>\n",
       "      <td>04-30-22</td>\n",
       "      <td>Cancelled</td>\n",
       "      <td>Merchant</td>\n",
       "      <td>Amazon.in</td>\n",
       "      <td>Standard</td>\n",
       "      <td>T-shirt</td>\n",
       "      <td>S</td>\n",
       "      <td>On the Way</td>\n",
       "      <td>0</td>\n",
       "      <td>INR</td>\n",
       "      <td>647.62</td>\n",
       "      <td>MUMBAI</td>\n",
       "      <td>MAHARASHTRA</td>\n",
       "      <td>400081.0</td>\n",
       "      <td>IN</td>\n",
       "      <td>False</td>\n",
       "    </tr>\n",
       "    <tr>\n",
       "      <th>1</th>\n",
       "      <td>1</td>\n",
       "      <td>171-9198151-1101146</td>\n",
       "      <td>04-30-22</td>\n",
       "      <td>Shipped - Delivered to Buyer</td>\n",
       "      <td>Merchant</td>\n",
       "      <td>Amazon.in</td>\n",
       "      <td>Standard</td>\n",
       "      <td>Shirt</td>\n",
       "      <td>3XL</td>\n",
       "      <td>Shipped</td>\n",
       "      <td>1</td>\n",
       "      <td>INR</td>\n",
       "      <td>406.00</td>\n",
       "      <td>BENGALURU</td>\n",
       "      <td>KARNATAKA</td>\n",
       "      <td>560085.0</td>\n",
       "      <td>IN</td>\n",
       "      <td>False</td>\n",
       "    </tr>\n",
       "    <tr>\n",
       "      <th>2</th>\n",
       "      <td>2</td>\n",
       "      <td>404-0687676-7273146</td>\n",
       "      <td>04-30-22</td>\n",
       "      <td>Shipped</td>\n",
       "      <td>Amazon</td>\n",
       "      <td>Amazon.in</td>\n",
       "      <td>Expedited</td>\n",
       "      <td>Shirt</td>\n",
       "      <td>XL</td>\n",
       "      <td>Shipped</td>\n",
       "      <td>1</td>\n",
       "      <td>INR</td>\n",
       "      <td>329.00</td>\n",
       "      <td>NAVI MUMBAI</td>\n",
       "      <td>MAHARASHTRA</td>\n",
       "      <td>410210.0</td>\n",
       "      <td>IN</td>\n",
       "      <td>True</td>\n",
       "    </tr>\n",
       "    <tr>\n",
       "      <th>3</th>\n",
       "      <td>3</td>\n",
       "      <td>403-9615377-8133951</td>\n",
       "      <td>04-30-22</td>\n",
       "      <td>Cancelled</td>\n",
       "      <td>Merchant</td>\n",
       "      <td>Amazon.in</td>\n",
       "      <td>Standard</td>\n",
       "      <td>Blazzer</td>\n",
       "      <td>L</td>\n",
       "      <td>On the Way</td>\n",
       "      <td>0</td>\n",
       "      <td>INR</td>\n",
       "      <td>753.33</td>\n",
       "      <td>PUDUCHERRY</td>\n",
       "      <td>PUDUCHERRY</td>\n",
       "      <td>605008.0</td>\n",
       "      <td>IN</td>\n",
       "      <td>False</td>\n",
       "    </tr>\n",
       "    <tr>\n",
       "      <th>4</th>\n",
       "      <td>4</td>\n",
       "      <td>407-1069790-7240320</td>\n",
       "      <td>04-30-22</td>\n",
       "      <td>Shipped</td>\n",
       "      <td>Amazon</td>\n",
       "      <td>Amazon.in</td>\n",
       "      <td>Expedited</td>\n",
       "      <td>Trousers</td>\n",
       "      <td>3XL</td>\n",
       "      <td>Shipped</td>\n",
       "      <td>1</td>\n",
       "      <td>INR</td>\n",
       "      <td>574.00</td>\n",
       "      <td>CHENNAI</td>\n",
       "      <td>TAMIL NADU</td>\n",
       "      <td>600073.0</td>\n",
       "      <td>IN</td>\n",
       "      <td>False</td>\n",
       "    </tr>\n",
       "    <tr>\n",
       "      <th>...</th>\n",
       "      <td>...</td>\n",
       "      <td>...</td>\n",
       "      <td>...</td>\n",
       "      <td>...</td>\n",
       "      <td>...</td>\n",
       "      <td>...</td>\n",
       "      <td>...</td>\n",
       "      <td>...</td>\n",
       "      <td>...</td>\n",
       "      <td>...</td>\n",
       "      <td>...</td>\n",
       "      <td>...</td>\n",
       "      <td>...</td>\n",
       "      <td>...</td>\n",
       "      <td>...</td>\n",
       "      <td>...</td>\n",
       "      <td>...</td>\n",
       "      <td>...</td>\n",
       "    </tr>\n",
       "    <tr>\n",
       "      <th>128971</th>\n",
       "      <td>128970</td>\n",
       "      <td>406-6001380-7673107</td>\n",
       "      <td>05-31-22</td>\n",
       "      <td>Shipped</td>\n",
       "      <td>Amazon</td>\n",
       "      <td>Amazon.in</td>\n",
       "      <td>Expedited</td>\n",
       "      <td>Shirt</td>\n",
       "      <td>XL</td>\n",
       "      <td>Shipped</td>\n",
       "      <td>1</td>\n",
       "      <td>INR</td>\n",
       "      <td>517.00</td>\n",
       "      <td>HYDERABAD</td>\n",
       "      <td>TELANGANA</td>\n",
       "      <td>500013.0</td>\n",
       "      <td>IN</td>\n",
       "      <td>False</td>\n",
       "    </tr>\n",
       "    <tr>\n",
       "      <th>128972</th>\n",
       "      <td>128971</td>\n",
       "      <td>402-9551604-7544318</td>\n",
       "      <td>05-31-22</td>\n",
       "      <td>Shipped</td>\n",
       "      <td>Amazon</td>\n",
       "      <td>Amazon.in</td>\n",
       "      <td>Expedited</td>\n",
       "      <td>T-shirt</td>\n",
       "      <td>M</td>\n",
       "      <td>Shipped</td>\n",
       "      <td>1</td>\n",
       "      <td>INR</td>\n",
       "      <td>999.00</td>\n",
       "      <td>GURUGRAM</td>\n",
       "      <td>HARYANA</td>\n",
       "      <td>122004.0</td>\n",
       "      <td>IN</td>\n",
       "      <td>False</td>\n",
       "    </tr>\n",
       "    <tr>\n",
       "      <th>128973</th>\n",
       "      <td>128972</td>\n",
       "      <td>407-9547469-3152358</td>\n",
       "      <td>05-31-22</td>\n",
       "      <td>Shipped</td>\n",
       "      <td>Amazon</td>\n",
       "      <td>Amazon.in</td>\n",
       "      <td>Expedited</td>\n",
       "      <td>Blazzer</td>\n",
       "      <td>XXL</td>\n",
       "      <td>Shipped</td>\n",
       "      <td>1</td>\n",
       "      <td>INR</td>\n",
       "      <td>690.00</td>\n",
       "      <td>HYDERABAD</td>\n",
       "      <td>TELANGANA</td>\n",
       "      <td>500049.0</td>\n",
       "      <td>IN</td>\n",
       "      <td>False</td>\n",
       "    </tr>\n",
       "    <tr>\n",
       "      <th>128974</th>\n",
       "      <td>128973</td>\n",
       "      <td>402-6184140-0545956</td>\n",
       "      <td>05-31-22</td>\n",
       "      <td>Shipped</td>\n",
       "      <td>Amazon</td>\n",
       "      <td>Amazon.in</td>\n",
       "      <td>Expedited</td>\n",
       "      <td>T-shirt</td>\n",
       "      <td>XS</td>\n",
       "      <td>Shipped</td>\n",
       "      <td>1</td>\n",
       "      <td>INR</td>\n",
       "      <td>1199.00</td>\n",
       "      <td>Halol</td>\n",
       "      <td>Gujarat</td>\n",
       "      <td>389350.0</td>\n",
       "      <td>IN</td>\n",
       "      <td>False</td>\n",
       "    </tr>\n",
       "    <tr>\n",
       "      <th>128975</th>\n",
       "      <td>128974</td>\n",
       "      <td>408-7436540-8728312</td>\n",
       "      <td>05-31-22</td>\n",
       "      <td>Shipped</td>\n",
       "      <td>Amazon</td>\n",
       "      <td>Amazon.in</td>\n",
       "      <td>Expedited</td>\n",
       "      <td>T-shirt</td>\n",
       "      <td>S</td>\n",
       "      <td>Shipped</td>\n",
       "      <td>1</td>\n",
       "      <td>INR</td>\n",
       "      <td>696.00</td>\n",
       "      <td>Raipur</td>\n",
       "      <td>CHHATTISGARH</td>\n",
       "      <td>492014.0</td>\n",
       "      <td>IN</td>\n",
       "      <td>False</td>\n",
       "    </tr>\n",
       "  </tbody>\n",
       "</table>\n",
       "<p>128775 rows × 18 columns</p>\n",
       "</div>"
      ],
      "text/plain": [
       "         index             Order ID      Date                        Status  \\\n",
       "0            0  405-8078784-5731545  04-30-22                     Cancelled   \n",
       "1            1  171-9198151-1101146  04-30-22  Shipped - Delivered to Buyer   \n",
       "2            2  404-0687676-7273146  04-30-22                       Shipped   \n",
       "3            3  403-9615377-8133951  04-30-22                     Cancelled   \n",
       "4            4  407-1069790-7240320  04-30-22                       Shipped   \n",
       "...        ...                  ...       ...                           ...   \n",
       "128971  128970  406-6001380-7673107  05-31-22                       Shipped   \n",
       "128972  128971  402-9551604-7544318  05-31-22                       Shipped   \n",
       "128973  128972  407-9547469-3152358  05-31-22                       Shipped   \n",
       "128974  128973  402-6184140-0545956  05-31-22                       Shipped   \n",
       "128975  128974  408-7436540-8728312  05-31-22                       Shipped   \n",
       "\n",
       "       Fulfilment Sales Channel ship-service-level  Category Size  \\\n",
       "0        Merchant     Amazon.in           Standard   T-shirt    S   \n",
       "1        Merchant     Amazon.in           Standard     Shirt  3XL   \n",
       "2          Amazon     Amazon.in          Expedited     Shirt   XL   \n",
       "3        Merchant     Amazon.in           Standard   Blazzer    L   \n",
       "4          Amazon     Amazon.in          Expedited  Trousers  3XL   \n",
       "...           ...           ...                ...       ...  ...   \n",
       "128971     Amazon     Amazon.in          Expedited     Shirt   XL   \n",
       "128972     Amazon     Amazon.in          Expedited   T-shirt    M   \n",
       "128973     Amazon     Amazon.in          Expedited   Blazzer  XXL   \n",
       "128974     Amazon     Amazon.in          Expedited   T-shirt   XS   \n",
       "128975     Amazon     Amazon.in          Expedited   T-shirt    S   \n",
       "\n",
       "       Courier Status  Qty currency   Amount    ship-city    ship-state  \\\n",
       "0          On the Way    0      INR   647.62       MUMBAI   MAHARASHTRA   \n",
       "1             Shipped    1      INR   406.00    BENGALURU     KARNATAKA   \n",
       "2             Shipped    1      INR   329.00  NAVI MUMBAI   MAHARASHTRA   \n",
       "3          On the Way    0      INR   753.33   PUDUCHERRY    PUDUCHERRY   \n",
       "4             Shipped    1      INR   574.00      CHENNAI    TAMIL NADU   \n",
       "...               ...  ...      ...      ...          ...           ...   \n",
       "128971        Shipped    1      INR   517.00    HYDERABAD     TELANGANA   \n",
       "128972        Shipped    1      INR   999.00     GURUGRAM       HARYANA   \n",
       "128973        Shipped    1      INR   690.00    HYDERABAD     TELANGANA   \n",
       "128974        Shipped    1      INR  1199.00        Halol       Gujarat   \n",
       "128975        Shipped    1      INR   696.00       Raipur  CHHATTISGARH   \n",
       "\n",
       "        ship-postal-code ship-country    B2B  \n",
       "0               400081.0           IN  False  \n",
       "1               560085.0           IN  False  \n",
       "2               410210.0           IN   True  \n",
       "3               605008.0           IN  False  \n",
       "4               600073.0           IN  False  \n",
       "...                  ...          ...    ...  \n",
       "128971          500013.0           IN  False  \n",
       "128972          122004.0           IN  False  \n",
       "128973          500049.0           IN  False  \n",
       "128974          389350.0           IN  False  \n",
       "128975          492014.0           IN  False  \n",
       "\n",
       "[128775 rows x 18 columns]"
      ]
     },
     "execution_count": 37,
     "metadata": {},
     "output_type": "execute_result"
    }
   ],
   "source": [
    "df"
   ]
  },
  {
   "cell_type": "code",
   "execution_count": 38,
   "id": "74624136-9faf-4530-9099-47185960a217",
   "metadata": {},
   "outputs": [],
   "source": [
    "# The Data Cleaning Process was Completed"
   ]
  },
  {
   "cell_type": "code",
   "execution_count": 39,
   "id": "0c2a999c-5c78-451b-aa1d-8e26b4964bea",
   "metadata": {},
   "outputs": [
    {
     "data": {
      "text/plain": [
       "ship-service-level\n",
       "Expedited    88493\n",
       "Standard     40282\n",
       "Name: count, dtype: int64"
      ]
     },
     "execution_count": 39,
     "metadata": {},
     "output_type": "execute_result"
    }
   ],
   "source": [
    "df['ship-service-level'].value_counts()"
   ]
  },
  {
   "cell_type": "code",
   "execution_count": 40,
   "id": "b12544a9-6b4b-4359-8ca7-eb8f324d3c74",
   "metadata": {},
   "outputs": [
    {
     "data": {
      "image/png": "[encoded data removed]",
      "text/plain": [
       "<Figure size 640x480 with 1 Axes>"
      ]
     },
     "metadata": {},
     "output_type": "display_data"
    }
   ],
   "source": [
    "\n",
    "df['ship-service-level'].value_counts().plot(kind='bar', color=['skyblue', 'lightgreen'])\n",
    "plt.title(\"Ship Service Level Distribution\")\n",
    "plt.xlabel(\"Service Level\")\n",
    "plt.ylabel(\"Number of Orders\")\n",
    "plt.show()\n"
   ]
  },
  {
   "cell_type": "code",
   "execution_count": 41,
   "id": "25c79270-d0c1-400f-8553-ad5c10bff4a2",
   "metadata": {},
   "outputs": [
    {
     "data": {
      "text/plain": [
       "Fulfilment\n",
       "Amazon      89575\n",
       "Merchant    39200\n",
       "Name: count, dtype: int64"
      ]
     },
     "execution_count": 41,
     "metadata": {},
     "output_type": "execute_result"
    }
   ],
   "source": [
    "df['Fulfilment'].value_counts()"
   ]
  },
  {
   "cell_type": "code",
   "execution_count": 42,
   "id": "d2257a58-8918-4cd0-99dc-bde60ab67f66",
   "metadata": {},
   "outputs": [
    {
     "data": {
      "image/png": "[encoded data removed]",
      "text/plain": [
       "<Figure size 640x480 with 1 Axes>"
      ]
     },
     "metadata": {},
     "output_type": "display_data"
    }
   ],
   "source": [
    "df['Fulfilment'].value_counts().plot(kind='bar', color=['orange', 'purple'])\n",
    "plt.title(\"Order Fulfilment Distribution\")\n",
    "plt.xlabel(\"Fulfilment Type\")\n",
    "plt.ylabel(\"Number of Orders\")\n",
    "plt.show()"
   ]
  },
  {
   "cell_type": "code",
   "execution_count": 43,
   "id": "764d1b7f-0e06-42fc-bdcb-0b986b49aa49",
   "metadata": {},
   "outputs": [],
   "source": [
    "#In the data analysis the Data can be classified into diffderent Types\n",
    "#Mailnly Four Types"
   ]
  },
  {
   "cell_type": "markdown",
   "id": "1dafd174-7a1d-4539-94cf-944045b61ebe",
   "metadata": {},
   "source": [
    "# Numerical Data --> Data represented by the Numbers\n",
    "# Catogorical Data --> Words/Labels\n",
    "# Text Data     --> Long Paragraphs\n",
    "# Time Series Data-->Dates & Times"
   ]
  },
  {
   "cell_type": "code",
   "execution_count": 44,
   "id": "53e5da91-fb1e-4ac0-b40c-a3e8cef51fa1",
   "metadata": {},
   "outputs": [],
   "source": [
    "#The Catogrical data can be representede in the Bar graphs and  pie charts"
   ]
  },
  {
   "cell_type": "code",
   "execution_count": 45,
   "id": "cbbb4433-d179-4a8b-bed1-98d6e6892522",
   "metadata": {},
   "outputs": [
    {
     "data": {
      "text/plain": [
       "Sales Channel\n",
       "Amazon.in     128651\n",
       "Non-Amazon       124\n",
       "Name: count, dtype: int64"
      ]
     },
     "execution_count": 45,
     "metadata": {},
     "output_type": "execute_result"
    }
   ],
   "source": [
    "df['Sales Channel'].value_counts()"
   ]
  },
  {
   "cell_type": "code",
   "execution_count": 46,
   "id": "c57ba6e2-e326-4364-882b-1a17a604de29",
   "metadata": {},
   "outputs": [
    {
     "data": {
      "text/plain": [
       "Category\n",
       "T-shirt     50207\n",
       "Shirt       49786\n",
       "Blazzer     15488\n",
       "Trousers    10605\n",
       "Perfume      1157\n",
       "Wallet        926\n",
       "Socks         439\n",
       "Shoes         164\n",
       "Watch           3\n",
       "Name: count, dtype: int64"
      ]
     },
     "execution_count": 46,
     "metadata": {},
     "output_type": "execute_result"
    }
   ],
   "source": [
    "df['Category'].value_counts()"
   ]
  },
  {
   "cell_type": "code",
   "execution_count": 47,
   "id": "ef68aa0e-27c3-4385-89ec-eb7152d886b7",
   "metadata": {},
   "outputs": [
    {
     "data": {
      "image/png": "[encoded data removed]",
      "text/plain": [
       "<Figure size 640x480 with 1 Axes>"
      ]
     },
     "metadata": {},
     "output_type": "display_data"
    }
   ],
   "source": [
    "import matplotlib.pyplot as plt\n",
    "\n",
    "df['Category'].value_counts().plot(kind='bar', color='skyblue', edgecolor='black')\n",
    "plt.title(\"Product Category Distribution\")\n",
    "plt.xlabel(\"Product Category\")\n",
    "plt.ylabel(\"Number of Sales\")\n",
    "plt.xticks(rotation=45)\n",
    "plt.show()\n"
   ]
  },
  {
   "cell_type": "markdown",
   "id": "56b24b2e-bb7c-42cf-91a1-2d2eeb96bd02",
   "metadata": {},
   "source": [
    "# T-shirts and Shirts are the top-selling categories together contributing 80% of sales. \n",
    "# Accessories like Wallets, Socks, and Watches have very low sales."
   ]
  },
  {
   "cell_type": "code",
   "execution_count": 48,
   "id": "02666e8a-c264-4472-8205-386df1fd04ec",
   "metadata": {},
   "outputs": [
    {
     "data": {
      "text/plain": [
       "Courier Status\n",
       "Shipped       109315\n",
       "On the Way      6860\n",
       "Unshipped       6673\n",
       "Cancelled       5927\n",
       "Name: count, dtype: int64"
      ]
     },
     "execution_count": 48,
     "metadata": {},
     "output_type": "execute_result"
    }
   ],
   "source": [
    "df['Courier Status'].value_counts()"
   ]
  },
  {
   "cell_type": "code",
   "execution_count": 49,
   "id": "a8f84c29-84c0-417a-b349-81861da28cab",
   "metadata": {},
   "outputs": [
    {
     "data": {
      "image/png": "[encoded data removed]",
      "text/plain": [
       "<Figure size 640x480 with 1 Axes>"
      ]
     },
     "metadata": {},
     "output_type": "display_data"
    }
   ],
   "source": [
    "        \n",
    "courier_counts = df['Courier Status'].value_counts()\n",
    "\n",
    "courier_counts.plot(kind='bar', color='lightgreen', edgecolor='black')\n",
    "plt.title(\"Courier Status Distribution\")\n",
    "plt.xlabel(\"Courier Status\")\n",
    "plt.ylabel(\"Number of Orders\")\n",
    "plt.xticks(rotation=45)\n",
    "for i, value in enumerate(courier_counts):\n",
    "    plt.text(i, value + 500, str(value), ha='center', fontsize=10, fontweight='bold')"
   ]
  },
  {
   "cell_type": "markdown",
   "id": "9c6e6372-3fe8-49fc-8bab-0f7afd47e3cd",
   "metadata": {},
   "source": [
    "# By  observing the above Data we can conclued that the number of  orders shipped is more than the on the way and unshipped and cancelled"
   ]
  },
  {
   "cell_type": "code",
   "execution_count": 50,
   "id": "1e1bd2b3-9228-4dea-890c-44962928f400",
   "metadata": {},
   "outputs": [
    {
     "data": {
      "text/plain": [
       "ship-country\n",
       "IN    128775\n",
       "Name: count, dtype: int64"
      ]
     },
     "execution_count": 50,
     "metadata": {},
     "output_type": "execute_result"
    }
   ],
   "source": [
    "df['ship-country'].value_counts()"
   ]
  },
  {
   "cell_type": "code",
   "execution_count": 51,
   "id": "0ee4f825-1df6-42ea-83e7-79d6bc268db4",
   "metadata": {},
   "outputs": [
    {
     "data": {
      "text/plain": [
       "ship-state\n",
       "MAHARASHTRA               22234\n",
       "KARNATAKA                 17296\n",
       "TAMIL NADU                11470\n",
       "TELANGANA                 11319\n",
       "UTTAR PRADESH             10633\n",
       "                          ...  \n",
       "Mizoram                       1\n",
       "rajsthan                      1\n",
       "Punjab/Mohali/Zirakpur        1\n",
       "Rajsthan                      1\n",
       "orissa                        1\n",
       "Name: count, Length: 69, dtype: int64"
      ]
     },
     "execution_count": 51,
     "metadata": {},
     "output_type": "execute_result"
    }
   ],
   "source": [
    "df['ship-state'].value_counts()"
   ]
  },
  {
   "cell_type": "code",
   "execution_count": 52,
   "id": "fe9e599b-ae1b-4aaa-9e2e-4b27d3a80312",
   "metadata": {},
   "outputs": [
    {
     "data": {
      "image/png": "[encoded data removed]",
      "text/plain": [
       "<Figure size 640x480 with 1 Axes>"
      ]
     },
     "metadata": {},
     "output_type": "display_data"
    }
   ],
   "source": [
    "\n",
    "state_counts = df['ship-state'].value_counts().head(10)\n",
    "\n",
    "# Plot horizontal bar chart\n",
    "ax = state_counts.plot(kind='barh', color='red', edgecolor='black')\n",
    "plt.title(\"Top 10 Shipping States\")\n",
    "plt.xlabel(\"Number of Orders\")\n",
    "plt.ylabel(\"States\")\n",
    "\n",
    "# Add values on bars\n",
    "for i, value in enumerate(state_counts):\n",
    "    plt.text(value + 200, i, str(value), va='center', fontsize=9, fontweight='bold')\n",
    "\n",
    "plt.show()\n"
   ]
  },
  {
   "cell_type": "markdown",
   "id": "43c29a5e-b737-49e3-b8fe-1119b363574e",
   "metadata": {},
   "source": [
    "# On comparing the All The states Maharashtra Getting the Large number of Orders"
   ]
  },
  {
   "cell_type": "code",
   "execution_count": 53,
   "id": "c80a004f-4dab-4bca-bfeb-8731a265922e",
   "metadata": {},
   "outputs": [
    {
     "data": {
      "text/plain": [
       "ship-country\n",
       "IN    128775\n",
       "Name: count, dtype: int64"
      ]
     },
     "execution_count": 53,
     "metadata": {},
     "output_type": "execute_result"
    }
   ],
   "source": [
    "df['ship-country'].value_counts()"
   ]
  },
  {
   "cell_type": "code",
   "execution_count": 54,
   "id": "ee006a61-8447-47fd-85e9-d7f5d6192f6c",
   "metadata": {},
   "outputs": [
    {
     "data": {
      "text/plain": [
       "Index(['index', 'Order ID', 'Date', 'Status', 'Fulfilment', 'Sales Channel',\n",
       "       'ship-service-level', 'Category', 'Size', 'Courier Status', 'Qty',\n",
       "       'currency', 'Amount', 'ship-city', 'ship-state', 'ship-postal-code',\n",
       "       'ship-country', 'B2B'],\n",
       "      dtype='object')"
      ]
     },
     "execution_count": 54,
     "metadata": {},
     "output_type": "execute_result"
    }
   ],
   "source": [
    "df.columns"
   ]
  },
  {
   "cell_type": "code",
   "execution_count": 55,
   "id": "246c7bd8-d5e9-4ac8-8208-554a74f427b6",
   "metadata": {},
   "outputs": [
    {
     "data": {
      "text/plain": [
       "(128775, 18)"
      ]
     },
     "execution_count": 55,
     "metadata": {},
     "output_type": "execute_result"
    }
   ],
   "source": [
    "df.shape"
   ]
  },
  {
   "cell_type": "code",
   "execution_count": 56,
   "id": "dc8c7c79-fcdb-4478-804e-43f6267ef1cc",
   "metadata": {},
   "outputs": [
    {
     "data": {
      "text/plain": [
       "0         04-30-22\n",
       "1         04-30-22\n",
       "2         04-30-22\n",
       "3         04-30-22\n",
       "4         04-30-22\n",
       "            ...   \n",
       "128971    05-31-22\n",
       "128972    05-31-22\n",
       "128973    05-31-22\n",
       "128974    05-31-22\n",
       "128975    05-31-22\n",
       "Name: Date, Length: 128775, dtype: object"
      ]
     },
     "execution_count": 56,
     "metadata": {},
     "output_type": "execute_result"
    }
   ],
   "source": [
    "df[\"Date\"]"
   ]
  },
  {
   "cell_type": "code",
   "execution_count": 57,
   "id": "3d194419-49e6-4b1d-b813-e701a4d88878",
   "metadata": {},
   "outputs": [],
   "source": [
    "df['Date'] = df['Date'].astype(str).str.strip()"
   ]
  },
  {
   "cell_type": "code",
   "execution_count": 58,
   "id": "ced67202-e43d-4c33-a547-431c1afec9fa",
   "metadata": {},
   "outputs": [
    {
     "name": "stderr",
     "output_type": "stream",
     "text": [
      "C:\\Users\\krish\\AppData\\Local\\Temp\\ipykernel_8720\\1929413170.py:1: UserWarning: Could not infer format, so each element will be parsed individually, falling back to `dateutil`. To ensure parsing is consistent and as-expected, please specify a format.\n",
      "  df['Date'] = pd.to_datetime(df['Date'],dayfirst=True)\n"
     ]
    }
   ],
   "source": [
    "df['Date'] = pd.to_datetime(df['Date'],dayfirst=True)"
   ]
  },
  {
   "cell_type": "code",
   "execution_count": 59,
   "id": "da2e41a4-f611-44ad-962e-64d47ed26561",
   "metadata": {},
   "outputs": [
    {
     "name": "stdout",
     "output_type": "stream",
     "text": [
      "<class 'pandas.core.frame.DataFrame'>\n",
      "Index: 128775 entries, 0 to 128975\n",
      "Data columns (total 18 columns):\n",
      " #   Column              Non-Null Count   Dtype         \n",
      "---  ------              --------------   -----         \n",
      " 0   index               128775 non-null  int64         \n",
      " 1   Order ID            128775 non-null  object        \n",
      " 2   Date                128775 non-null  datetime64[ns]\n",
      " 3   Status              128775 non-null  object        \n",
      " 4   Fulfilment          128775 non-null  object        \n",
      " 5   Sales Channel       128775 non-null  object        \n",
      " 6   ship-service-level  128775 non-null  object        \n",
      " 7   Category            128775 non-null  object        \n",
      " 8   Size                128775 non-null  object        \n",
      " 9   Courier Status      128775 non-null  object        \n",
      " 10  Qty                 128775 non-null  int64         \n",
      " 11  currency            128775 non-null  object        \n",
      " 12  Amount              128775 non-null  float64       \n",
      " 13  ship-city           128775 non-null  object        \n",
      " 14  ship-state          128775 non-null  object        \n",
      " 15  ship-postal-code    128775 non-null  float64       \n",
      " 16  ship-country        128775 non-null  object        \n",
      " 17  B2B                 128775 non-null  bool          \n",
      "dtypes: bool(1), datetime64[ns](1), float64(2), int64(2), object(12)\n",
      "memory usage: 17.8+ MB\n"
     ]
    }
   ],
   "source": [
    "df.info()"
   ]
  },
  {
   "cell_type": "code",
   "execution_count": 60,
   "id": "3a4eefc2-2571-4a11-a92a-da3a703b7450",
   "metadata": {},
   "outputs": [],
   "source": [
    "df['Month'] = df['Date'].dt.month_name()"
   ]
  },
  {
   "cell_type": "code",
   "execution_count": 61,
   "id": "54ec162a-65f7-4d34-811a-08a5aa782cd8",
   "metadata": {},
   "outputs": [],
   "source": [
    "df['Day'] = df['Date'].dt.day_name()\n",
    "df['Day_count'] = df['Date'].dt.day_of_year\n",
    "df['year'] = df['Date'].dt.year"
   ]
  },
  {
   "cell_type": "markdown",
   "id": "612c13da-ce6e-4663-a4b9-ebdb5f677797",
   "metadata": {},
   "source": []
  },
  {
   "cell_type": "code",
   "execution_count": 62,
   "id": "4cc57c33-ad8e-4b3d-936c-2580326d6b68",
   "metadata": {},
   "outputs": [
    {
     "data": {
      "text/plain": [
       "(128775, 22)"
      ]
     },
     "execution_count": 62,
     "metadata": {},
     "output_type": "execute_result"
    }
   ],
   "source": [
    "df.shape"
   ]
  },
  {
   "cell_type": "markdown",
   "id": "d0c388bb-4ce7-40f4-ac39-c1dfd49446da",
   "metadata": {},
   "source": [
    "# Date can be splitted into four columns  Month,Day, Day Count, Year "
   ]
  },
  {
   "cell_type": "code",
   "execution_count": 63,
   "id": "45b71cde-ea44-4dcf-9dc0-d14e7aba8625",
   "metadata": {},
   "outputs": [],
   "source": [
    "#By using this we can calculate the number of orders in a day and month \n",
    "# We can get the clear idea which month we are getting more orders"
   ]
  },
  {
   "cell_type": "code",
   "execution_count": 64,
   "id": "8241b6b8-b5d1-4b3a-8d35-51d47710aeaa",
   "metadata": {},
   "outputs": [
    {
     "data": {
      "text/html": [
       "<div>\n",
       "<style scoped>\n",
       "    .dataframe tbody tr th:only-of-type {\n",
       "        vertical-align: middle;\n",
       "    }\n",
       "\n",
       "    .dataframe tbody tr th {\n",
       "        vertical-align: top;\n",
       "    }\n",
       "\n",
       "    .dataframe thead th {\n",
       "        text-align: right;\n",
       "    }\n",
       "</style>\n",
       "<table border=\"1\" class=\"dataframe\">\n",
       "  <thead>\n",
       "    <tr style=\"text-align: right;\">\n",
       "      <th></th>\n",
       "      <th>index</th>\n",
       "      <th>Order ID</th>\n",
       "      <th>Date</th>\n",
       "      <th>Status</th>\n",
       "      <th>Fulfilment</th>\n",
       "      <th>Sales Channel</th>\n",
       "      <th>ship-service-level</th>\n",
       "      <th>Category</th>\n",
       "      <th>Size</th>\n",
       "      <th>Courier Status</th>\n",
       "      <th>...</th>\n",
       "      <th>Amount</th>\n",
       "      <th>ship-city</th>\n",
       "      <th>ship-state</th>\n",
       "      <th>ship-postal-code</th>\n",
       "      <th>ship-country</th>\n",
       "      <th>B2B</th>\n",
       "      <th>Month</th>\n",
       "      <th>Day</th>\n",
       "      <th>Day_count</th>\n",
       "      <th>year</th>\n",
       "    </tr>\n",
       "  </thead>\n",
       "  <tbody>\n",
       "    <tr>\n",
       "      <th>0</th>\n",
       "      <td>0</td>\n",
       "      <td>405-8078784-5731545</td>\n",
       "      <td>2022-04-30</td>\n",
       "      <td>Cancelled</td>\n",
       "      <td>Merchant</td>\n",
       "      <td>Amazon.in</td>\n",
       "      <td>Standard</td>\n",
       "      <td>T-shirt</td>\n",
       "      <td>S</td>\n",
       "      <td>On the Way</td>\n",
       "      <td>...</td>\n",
       "      <td>647.62</td>\n",
       "      <td>MUMBAI</td>\n",
       "      <td>MAHARASHTRA</td>\n",
       "      <td>400081.0</td>\n",
       "      <td>IN</td>\n",
       "      <td>False</td>\n",
       "      <td>April</td>\n",
       "      <td>Saturday</td>\n",
       "      <td>120</td>\n",
       "      <td>2022</td>\n",
       "    </tr>\n",
       "    <tr>\n",
       "      <th>1</th>\n",
       "      <td>1</td>\n",
       "      <td>171-9198151-1101146</td>\n",
       "      <td>2022-04-30</td>\n",
       "      <td>Shipped - Delivered to Buyer</td>\n",
       "      <td>Merchant</td>\n",
       "      <td>Amazon.in</td>\n",
       "      <td>Standard</td>\n",
       "      <td>Shirt</td>\n",
       "      <td>3XL</td>\n",
       "      <td>Shipped</td>\n",
       "      <td>...</td>\n",
       "      <td>406.00</td>\n",
       "      <td>BENGALURU</td>\n",
       "      <td>KARNATAKA</td>\n",
       "      <td>560085.0</td>\n",
       "      <td>IN</td>\n",
       "      <td>False</td>\n",
       "      <td>April</td>\n",
       "      <td>Saturday</td>\n",
       "      <td>120</td>\n",
       "      <td>2022</td>\n",
       "    </tr>\n",
       "    <tr>\n",
       "      <th>2</th>\n",
       "      <td>2</td>\n",
       "      <td>404-0687676-7273146</td>\n",
       "      <td>2022-04-30</td>\n",
       "      <td>Shipped</td>\n",
       "      <td>Amazon</td>\n",
       "      <td>Amazon.in</td>\n",
       "      <td>Expedited</td>\n",
       "      <td>Shirt</td>\n",
       "      <td>XL</td>\n",
       "      <td>Shipped</td>\n",
       "      <td>...</td>\n",
       "      <td>329.00</td>\n",
       "      <td>NAVI MUMBAI</td>\n",
       "      <td>MAHARASHTRA</td>\n",
       "      <td>410210.0</td>\n",
       "      <td>IN</td>\n",
       "      <td>True</td>\n",
       "      <td>April</td>\n",
       "      <td>Saturday</td>\n",
       "      <td>120</td>\n",
       "      <td>2022</td>\n",
       "    </tr>\n",
       "    <tr>\n",
       "      <th>3</th>\n",
       "      <td>3</td>\n",
       "      <td>403-9615377-8133951</td>\n",
       "      <td>2022-04-30</td>\n",
       "      <td>Cancelled</td>\n",
       "      <td>Merchant</td>\n",
       "      <td>Amazon.in</td>\n",
       "      <td>Standard</td>\n",
       "      <td>Blazzer</td>\n",
       "      <td>L</td>\n",
       "      <td>On the Way</td>\n",
       "      <td>...</td>\n",
       "      <td>753.33</td>\n",
       "      <td>PUDUCHERRY</td>\n",
       "      <td>PUDUCHERRY</td>\n",
       "      <td>605008.0</td>\n",
       "      <td>IN</td>\n",
       "      <td>False</td>\n",
       "      <td>April</td>\n",
       "      <td>Saturday</td>\n",
       "      <td>120</td>\n",
       "      <td>2022</td>\n",
       "    </tr>\n",
       "    <tr>\n",
       "      <th>4</th>\n",
       "      <td>4</td>\n",
       "      <td>407-1069790-7240320</td>\n",
       "      <td>2022-04-30</td>\n",
       "      <td>Shipped</td>\n",
       "      <td>Amazon</td>\n",
       "      <td>Amazon.in</td>\n",
       "      <td>Expedited</td>\n",
       "      <td>Trousers</td>\n",
       "      <td>3XL</td>\n",
       "      <td>Shipped</td>\n",
       "      <td>...</td>\n",
       "      <td>574.00</td>\n",
       "      <td>CHENNAI</td>\n",
       "      <td>TAMIL NADU</td>\n",
       "      <td>600073.0</td>\n",
       "      <td>IN</td>\n",
       "      <td>False</td>\n",
       "      <td>April</td>\n",
       "      <td>Saturday</td>\n",
       "      <td>120</td>\n",
       "      <td>2022</td>\n",
       "    </tr>\n",
       "  </tbody>\n",
       "</table>\n",
       "<p>5 rows × 22 columns</p>\n",
       "</div>"
      ],
      "text/plain": [
       "   index             Order ID       Date                        Status  \\\n",
       "0      0  405-8078784-5731545 2022-04-30                     Cancelled   \n",
       "1      1  171-9198151-1101146 2022-04-30  Shipped - Delivered to Buyer   \n",
       "2      2  404-0687676-7273146 2022-04-30                       Shipped   \n",
       "3      3  403-9615377-8133951 2022-04-30                     Cancelled   \n",
       "4      4  407-1069790-7240320 2022-04-30                       Shipped   \n",
       "\n",
       "  Fulfilment Sales Channel ship-service-level  Category Size Courier Status  \\\n",
       "0   Merchant     Amazon.in           Standard   T-shirt    S     On the Way   \n",
       "1   Merchant     Amazon.in           Standard     Shirt  3XL        Shipped   \n",
       "2     Amazon     Amazon.in          Expedited     Shirt   XL        Shipped   \n",
       "3   Merchant     Amazon.in           Standard   Blazzer    L     On the Way   \n",
       "4     Amazon     Amazon.in          Expedited  Trousers  3XL        Shipped   \n",
       "\n",
       "   ...  Amount    ship-city   ship-state ship-postal-code ship-country    B2B  \\\n",
       "0  ...  647.62       MUMBAI  MAHARASHTRA         400081.0           IN  False   \n",
       "1  ...  406.00    BENGALURU    KARNATAKA         560085.0           IN  False   \n",
       "2  ...  329.00  NAVI MUMBAI  MAHARASHTRA         410210.0           IN   True   \n",
       "3  ...  753.33   PUDUCHERRY   PUDUCHERRY         605008.0           IN  False   \n",
       "4  ...  574.00      CHENNAI   TAMIL NADU         600073.0           IN  False   \n",
       "\n",
       "   Month       Day Day_count  year  \n",
       "0  April  Saturday       120  2022  \n",
       "1  April  Saturday       120  2022  \n",
       "2  April  Saturday       120  2022  \n",
       "3  April  Saturday       120  2022  \n",
       "4  April  Saturday       120  2022  \n",
       "\n",
       "[5 rows x 22 columns]"
      ]
     },
     "execution_count": 64,
     "metadata": {},
     "output_type": "execute_result"
    }
   ],
   "source": [
    "df.head()"
   ]
  },
  {
   "cell_type": "code",
   "execution_count": 65,
   "id": "997214fd-9028-4af0-894d-df618fbf080d",
   "metadata": {},
   "outputs": [
    {
     "data": {
      "text/plain": [
       "Size\n",
       "M       22343\n",
       "L       21768\n",
       "XL      20516\n",
       "XXL     17780\n",
       "S       16748\n",
       "3XL     14625\n",
       "XS      11032\n",
       "Free     2250\n",
       "6XL       738\n",
       "5XL       550\n",
       "4XL       425\n",
       "Name: count, dtype: int64"
      ]
     },
     "execution_count": 65,
     "metadata": {},
     "output_type": "execute_result"
    }
   ],
   "source": [
    "df[\"Size\"].value_counts(ascending=False)"
   ]
  },
  {
   "cell_type": "code",
   "execution_count": 66,
   "id": "e166c3db-9761-46ff-92a1-94f1f61c37f0",
   "metadata": {},
   "outputs": [
    {
     "data": {
      "image/png": "[encoded data removed]",
      "text/plain": [
       "<Figure size 640x480 with 1 Axes>"
      ]
     },
     "metadata": {},
     "output_type": "display_data"
    }
   ],
   "source": [
    " size=df[\"Size\"].value_counts()\n",
    "size.plot(kind=\"bar\",color=\"green\",edgecolor=\"black\")\n",
    "plt.title(\"Different Sizes\")\n",
    "plt.xlabel(\"Size\")\n",
    "plt.ylabel(\"Number of Orders\")\n",
    "for i,value in  enumerate(size):\n",
    "    plt.text(i,value + 500, str(value), va='center', fontsize=9, fontweight='bold')"
   ]
  },
  {
   "cell_type": "markdown",
   "id": "cc80737c-7645-446b-8c6c-34747e818d35",
   "metadata": {},
   "source": [
    "# On Which Day Amazon Getting More Sales"
   ]
  },
  {
   "cell_type": "code",
   "execution_count": 67,
   "id": "c6c2f39e-10d7-4000-83de-4c5e134883bf",
   "metadata": {},
   "outputs": [
    {
     "data": {
      "text/plain": [
       "Day\n",
       "Tuesday      12699024.58\n",
       "Saturday     11724737.88\n",
       "Sunday       11279888.45\n",
       "Friday       11223649.64\n",
       "Wednesday    11113957.91\n",
       "Monday       10799468.09\n",
       "Thursday      9637388.84\n",
       "Name: Amount, dtype: float64"
      ]
     },
     "execution_count": 67,
     "metadata": {},
     "output_type": "execute_result"
    }
   ],
   "source": [
    "df.groupby(['Day'])['Amount'].sum().sort_values(ascending=False)"
   ]
  },
  {
   "cell_type": "code",
   "execution_count": 68,
   "id": "61cf5b67-ec36-4a74-b848-94692f49b55b",
   "metadata": {},
   "outputs": [
    {
     "data": {
      "image/png": "[encoded data removed]",
      "text/plain": [
       "<Figure size 640x480 with 1 Axes>"
      ]
     },
     "metadata": {},
     "output_type": "display_data"
    }
   ],
   "source": [
    "day_sales = df.groupby(\"Day\")[\"Amount\"].sum().sort_values(ascending=False)\n",
    "ax = day_sales.plot(kind=\"bar\", color=\"skyblue\", edgecolor=\"black\")\n",
    "plt.title(\"Total Sales Amount by Day of the Week\")\n",
    "plt.xlabel(\"Day of the Week\")\n",
    "plt.ylabel(\"Total Sales Amount\")\n",
    "for i, value in enumerate(day_sales):\n",
    "    plt.text(i, value + 500000, f\"{value:,.0f}\", ha='center', va='bottom', fontsize=8, fontweight='bold')\n",
    "\n",
    "plt.show()\n"
   ]
  },
  {
   "cell_type": "markdown",
   "id": "8a465e36-5430-47f0-88b1-317911d209d8",
   "metadata": {},
   "source": [
    "# On observing This insight we can conclude that on TUESDAY  thge company getting the large amount Sales"
   ]
  },
  {
   "cell_type": "code",
   "execution_count": 69,
   "id": "ab84303d-9734-4705-8005-615fa7616a7f",
   "metadata": {},
   "outputs": [
    {
     "data": {
      "text/plain": [
       "Month\n",
       "April        20395265.09\n",
       "May          17821156.32\n",
       "June         15260858.88\n",
       "March         3041934.01\n",
       "February      2981366.41\n",
       "August        2885502.76\n",
       "January       2880866.33\n",
       "July          2786076.37\n",
       "September     2742205.46\n",
       "October       2597647.85\n",
       "November      2550648.13\n",
       "December      2534587.78\n",
       "Name: Amount, dtype: float64"
      ]
     },
     "execution_count": 69,
     "metadata": {},
     "output_type": "execute_result"
    }
   ],
   "source": [
    "df.groupby(['Month'])['Amount'].sum().sort_values(ascending=False)"
   ]
  },
  {
   "cell_type": "code",
   "execution_count": 72,
   "id": "41642eb0-0718-4b68-b6b0-d664fc54fa45",
   "metadata": {},
   "outputs": [
    {
     "data": {
      "image/png": "[encoded data removed]",
      "text/plain": [
       "<Figure size 800x800 with 1 Axes>"
      ]
     },
     "metadata": {},
     "output_type": "display_data"
    }
   ],
   "source": [
    "import matplotlib.pyplot as plt\n",
    "\n",
    "month_sales = df.groupby(\"Month\")[\"Amount\"].sum()\n",
    "months_order = [\"January\", \"February\", \"March\", \"April\", \"May\", \"June\",\n",
    "                \"July\", \"August\", \"September\", \"October\", \"November\", \"December\"]\n",
    "month_sales = month_sales.reindex(months_order)\n",
    "month_sales = month_sales.dropna()\n",
    "plt.figure(figsize=(8, 8))\n",
    "plt.pie(\n",
    "    month_sales,\n",
    "    labels=month_sales.index,\n",
    "    autopct='%1.1f%%',\n",
    "    startangle=90,\n",
    "    wedgeprops={'edgecolor': 'black'}\n",
    ")\n",
    "plt.title(\"Total Sales Amount by Month\")\n",
    "plt.show()\n"
   ]
  },
  {
   "cell_type": "markdown",
   "id": "b7dd166d-4f7e-4f22-84aa-f1489a151be8",
   "metadata": {},
   "source": [
    "# By observing this pi chart we can conclude thta in the month of APRIL, MAY, JUNE have large amount of sales"
   ]
  },
  {
   "cell_type": "code",
   "execution_count": 73,
   "id": "0986c392-be77-43b0-a55c-beedb0463b28",
   "metadata": {},
   "outputs": [
    {
     "data": {
      "text/plain": [
       "Qty\n",
       "1     115601\n",
       "0      12787\n",
       "2        340\n",
       "3         32\n",
       "4          9\n",
       "5          2\n",
       "15         1\n",
       "9          1\n",
       "13         1\n",
       "8          1\n",
       "Name: count, dtype: int64"
      ]
     },
     "execution_count": 73,
     "metadata": {},
     "output_type": "execute_result"
    }
   ],
   "source": [
    "df['Qty'].value_counts()"
   ]
  },
  {
   "cell_type": "code",
   "execution_count": 74,
   "id": "1484f33e-aa0d-4b56-b297-70dc28dc487f",
   "metadata": {},
   "outputs": [
    {
     "data": {
      "text/plain": [
       "ship-state      ship-city\n",
       "KARNATAKA       BENGALURU    11191\n",
       "TELANGANA       HYDERABAD     8058\n",
       "MAHARASHTRA     MUMBAI        6115\n",
       "DELHI           NEW DELHI     5774\n",
       "TAMIL NADU      CHENNAI       5421\n",
       "                             ...  \n",
       "MADHYA PRADESH  Mauganj          1\n",
       "                Mandsour         1\n",
       "                Mandla           1\n",
       "                MUNDI            1\n",
       "rajsthan        Bheem            1\n",
       "Name: Order ID, Length: 9141, dtype: int64"
      ]
     },
     "execution_count": 74,
     "metadata": {},
     "output_type": "execute_result"
    }
   ],
   "source": [
    "df.groupby(['ship-state','ship-city'])['Order ID'].count().sort_values(ascending=False)"
   ]
  },
  {
   "cell_type": "code",
   "execution_count": 75,
   "id": "271de399-95bf-4b02-9eac-8f8b038626b7",
   "metadata": {},
   "outputs": [
    {
     "data": {
      "text/plain": [
       "Index(['index', 'Order ID', 'Date', 'Status', 'Fulfilment', 'Sales Channel',\n",
       "       'ship-service-level', 'Category', 'Size', 'Courier Status', 'Qty',\n",
       "       'currency', 'Amount', 'ship-city', 'ship-state', 'ship-postal-code',\n",
       "       'ship-country', 'B2B', 'Month', 'Day', 'Day_count', 'year'],\n",
       "      dtype='object')"
      ]
     },
     "execution_count": 75,
     "metadata": {},
     "output_type": "execute_result"
    }
   ],
   "source": [
    "df.columns"
   ]
  },
  {
   "cell_type": "code",
   "execution_count": 76,
   "id": "16ebaea9-ce38-4d44-acf1-93739e164c56",
   "metadata": {},
   "outputs": [
    {
     "data": {
      "text/plain": [
       "ship-city         Sales Channel\n",
       "BENGALURU         Amazon.in        6836614.65\n",
       "HYDERABAD         Amazon.in        4941790.25\n",
       "MUMBAI            Amazon.in        3696704.04\n",
       "NEW DELHI         Amazon.in        3608277.78\n",
       "CHENNAI           Amazon.in        3098745.74\n",
       "                                      ...    \n",
       "etah              Amazon.in              0.00\n",
       "DAKSHIN ODLABARI  Amazon.in              0.00\n",
       "DAMMAPETA         Amazon.in              0.00\n",
       "east delhi        Amazon.in              0.00\n",
       "Couch Behar       Amazon.in              0.00\n",
       "Name: Amount, Length: 8950, dtype: float64"
      ]
     },
     "execution_count": 76,
     "metadata": {},
     "output_type": "execute_result"
    }
   ],
   "source": [
    "df.groupby(['ship-city','Sales Channel'])['Amount'].sum().sort_values(ascending=False)\n"
   ]
  },
  {
   "cell_type": "code",
   "execution_count": 77,
   "id": "f23e6c42-92d4-428f-84b2-9f96b89e5891",
   "metadata": {},
   "outputs": [
    {
     "data": {
      "text/plain": [
       "0"
      ]
     },
     "execution_count": 77,
     "metadata": {},
     "output_type": "execute_result"
    }
   ],
   "source": [
    "df.duplicated().sum()"
   ]
  },
  {
   "cell_type": "code",
   "execution_count": 78,
   "id": "36d7a9bb-78d8-4b34-b67a-3884bdc08fc6",
   "metadata": {},
   "outputs": [],
   "source": [
    "df['B2B'] = df['B2B'].astype('bool')"
   ]
  },
  {
   "cell_type": "code",
   "execution_count": 79,
   "id": "432d6fe7-f8f4-40ba-85bd-ebc5b6f6339f",
   "metadata": {},
   "outputs": [
    {
     "data": {
      "text/plain": [
       "B2B\n",
       "False    127904\n",
       "True        871\n",
       "Name: count, dtype: int64"
      ]
     },
     "execution_count": 79,
     "metadata": {},
     "output_type": "execute_result"
    }
   ],
   "source": [
    "df['B2B'].value_counts()"
   ]
  },
  {
   "cell_type": "code",
   "execution_count": 80,
   "id": "5e976812-8dbe-4eb6-ad89-9c43349b920b",
   "metadata": {},
   "outputs": [
    {
     "data": {
      "text/plain": [
       "ship-city\n",
       "BENGALURU                                         11191\n",
       "HYDERABAD                                          8067\n",
       "MUMBAI                                             6115\n",
       "NEW DELHI                                          5784\n",
       "CHENNAI                                            5421\n",
       "                                                  ...  \n",
       "GREATER NOIDA WEST (NOIDA EXTENSION)                  1\n",
       "Opp Tata motor.ajmera                                 1\n",
       "Opposite Air Force Station                            1\n",
       "Opposite Jains public school,Thirumudivakam           1\n",
       "(Chikmagalur disterict).     (N.R pur thaluku)        1\n",
       "Name: B2B, Length: 8948, dtype: int64"
      ]
     },
     "execution_count": 80,
     "metadata": {},
     "output_type": "execute_result"
    }
   ],
   "source": [
    "df.groupby(['ship-city'])['B2B'].count().sort_values(ascending=False)"
   ]
  },
  {
   "cell_type": "code",
   "execution_count": 81,
   "id": "9b997097-d61f-4828-8b37-02ecadc8062a",
   "metadata": {},
   "outputs": [
    {
     "data": {
      "text/plain": [
       "ship-country\n",
       "IN    128775\n",
       "Name: count, dtype: int64"
      ]
     },
     "execution_count": 81,
     "metadata": {},
     "output_type": "execute_result"
    }
   ],
   "source": [
    "df['ship-country'].value_counts()"
   ]
  },
  {
   "cell_type": "markdown",
   "id": "b2365afa-8ff4-40aa-9e2d-5f5a93d08e2e",
   "metadata": {},
   "source": [
    "# Average sales across the country"
   ]
  },
  {
   "cell_type": "code",
   "execution_count": 82,
   "id": "404a1e01-53cf-4e32-a98c-3faa648d068b",
   "metadata": {},
   "outputs": [
    {
     "data": {
      "text/plain": [
       "ship-country\n",
       "IN    609.420426\n",
       "Name: Amount, dtype: float64"
      ]
     },
     "execution_count": 82,
     "metadata": {},
     "output_type": "execute_result"
    }
   ],
   "source": [
    "df.groupby(['ship-country'])['Amount'].mean()"
   ]
  },
  {
   "cell_type": "code",
   "execution_count": 84,
   "id": "2cd57fbe-54fe-4273-af9c-e9839767cf8e",
   "metadata": {},
   "outputs": [
    {
     "data": {
      "text/plain": [
       "ship-city\n",
       "RAJGARH CHURU DISTRICT    2372.0\n",
       "Amrath                    1698.0\n",
       "Ithepalli, Chandragiri    1671.0\n",
       "Mandya distic             1648.0\n",
       "Jashpurnagar              1613.0\n",
       "                           ...  \n",
       "Deo                          0.0\n",
       "MUNDI                        0.0\n",
       "Sindri Dhanbad               0.0\n",
       "Darmavaram,addanki           0.0\n",
       "Okkal                        0.0\n",
       "Name: Amount, Length: 8948, dtype: float64"
      ]
     },
     "execution_count": 84,
     "metadata": {},
     "output_type": "execute_result"
    }
   ],
   "source": [
    "df.groupby(['ship-city'])['Amount'].mean().sort_values(ascending = False)"
   ]
  },
  {
   "cell_type": "code",
   "execution_count": 85,
   "id": "75959ed9-f7a8-41cc-abfb-36b566dd83c1",
   "metadata": {},
   "outputs": [
    {
     "data": {
      "text/plain": [
       "Index(['index', 'Order ID', 'Date', 'Status', 'Fulfilment', 'Sales Channel',\n",
       "       'ship-service-level', 'Category', 'Size', 'Courier Status', 'Qty',\n",
       "       'currency', 'Amount', 'ship-city', 'ship-state', 'ship-postal-code',\n",
       "       'ship-country', 'B2B', 'Month', 'Day', 'Day_count', 'year'],\n",
       "      dtype='object')"
      ]
     },
     "execution_count": 85,
     "metadata": {},
     "output_type": "execute_result"
    }
   ],
   "source": [
    "df.columns"
   ]
  },
  {
   "cell_type": "code",
   "execution_count": 86,
   "id": "f2086dce-9f06-4bf7-989c-27da8b6f7089",
   "metadata": {},
   "outputs": [
    {
     "data": {
      "text/plain": [
       "ship-city  Status                      \n",
       "BENGALURU  Shipped                         7307\n",
       "HYDERABAD  Shipped                         5012\n",
       "MUMBAI     Shipped                         3836\n",
       "NEW DELHI  Shipped                         3526\n",
       "CHENNAI    Shipped                         3462\n",
       "                                           ... \n",
       "KOTKAPURA  Cancelled                          1\n",
       "           Shipped                            1\n",
       "           Shipped - Delivered to Buyer       1\n",
       "KOTKHAI    Cancelled                          1\n",
       "LUCKNOWl   Shipped - Delivered to Buyer       1\n",
       "Name: count, Length: 15463, dtype: int64"
      ]
     },
     "execution_count": 86,
     "metadata": {},
     "output_type": "execute_result"
    }
   ],
   "source": [
    "df.groupby(['ship-city'])['Status'].value_counts().sort_values(ascending=False)"
   ]
  },
  {
   "cell_type": "code",
   "execution_count": 87,
   "id": "3ce39082-5345-4b18-8952-dd82134ef323",
   "metadata": {},
   "outputs": [
    {
     "data": {
      "text/plain": [
       "Index(['index', 'Order ID', 'Date', 'Status', 'Fulfilment', 'Sales Channel',\n",
       "       'ship-service-level', 'Category', 'Size', 'Courier Status', 'Qty',\n",
       "       'currency', 'Amount', 'ship-city', 'ship-state', 'ship-postal-code',\n",
       "       'ship-country', 'B2B', 'Month', 'Day', 'Day_count', 'year'],\n",
       "      dtype='object')"
      ]
     },
     "execution_count": 87,
     "metadata": {},
     "output_type": "execute_result"
    }
   ],
   "source": [
    "df.columns"
   ]
  },
  {
   "cell_type": "code",
   "execution_count": 88,
   "id": "5c865c93-5fe6-4883-9285-3f0726573cca",
   "metadata": {},
   "outputs": [
    {
     "data": {
      "text/plain": [
       "Day\n",
       "Friday       606.061323\n",
       "Monday       614.723821\n",
       "Saturday     599.056708\n",
       "Sunday       620.046639\n",
       "Thursday     606.277607\n",
       "Tuesday      612.532538\n",
       "Wednesday    607.452881\n",
       "Name: Amount, dtype: float64"
      ]
     },
     "execution_count": 88,
     "metadata": {},
     "output_type": "execute_result"
    }
   ],
   "source": [
    "df.groupby(['Day'])['Amount'].mean()"
   ]
  },
  {
   "cell_type": "code",
   "execution_count": 89,
   "id": "e431a5b6-f88c-4a3d-887a-4fe1949e71e6",
   "metadata": {},
   "outputs": [
    {
     "data": {
      "text/plain": [
       "Category  Day      \n",
       "T-shirt   Tuesday      8052\n",
       "Shirt     Tuesday      7934\n",
       "          Saturday     7762\n",
       "T-shirt   Friday       7510\n",
       "          Saturday     7498\n",
       "Shirt     Wednesday    7301\n",
       "T-shirt   Sunday       7162\n",
       "          Wednesday    7129\n",
       "Shirt     Friday       7116\n",
       "T-shirt   Monday       6836\n",
       "Shirt     Monday       6741\n",
       "          Sunday       6623\n",
       "          Thursday     6309\n",
       "T-shirt   Thursday     6020\n",
       "Blazzer   Tuesday      2511\n",
       "          Sunday       2397\n",
       "          Saturday     2340\n",
       "          Monday       2152\n",
       "          Wednesday    2060\n",
       "          Friday       2057\n",
       "          Thursday     1971\n",
       "Trousers  Tuesday      1801\n",
       "          Sunday       1615\n",
       "          Saturday     1556\n",
       "          Monday       1477\n",
       "          Friday       1470\n",
       "          Wednesday    1429\n",
       "          Thursday     1257\n",
       "Perfume   Tuesday       207\n",
       "          Sunday        183\n",
       "          Saturday      162\n",
       "          Wednesday     161\n",
       "          Thursday      154\n",
       "          Monday        149\n",
       "Wallet    Saturday      146\n",
       "Perfume   Friday        141\n",
       "Wallet    Friday        141\n",
       "          Tuesday       141\n",
       "          Monday        132\n",
       "          Sunday        128\n",
       "          Wednesday     128\n",
       "          Thursday      110\n",
       "Socks     Saturday       75\n",
       "          Wednesday      65\n",
       "          Sunday         65\n",
       "          Tuesday        63\n",
       "          Monday         62\n",
       "          Friday         59\n",
       "          Thursday       50\n",
       "Shoes     Saturday       33\n",
       "          Thursday       25\n",
       "          Friday         25\n",
       "          Wednesday      23\n",
       "          Tuesday        23\n",
       "          Monday         19\n",
       "          Sunday         16\n",
       "Watch     Sunday          3\n",
       "Name: count, dtype: int64"
      ]
     },
     "execution_count": 89,
     "metadata": {},
     "output_type": "execute_result"
    }
   ],
   "source": [
    "df.groupby(['Category'])['Day'].value_counts().sort_values(ascending=False)"
   ]
  },
  {
   "cell_type": "code",
   "execution_count": 90,
   "id": "b64b6ad6-36b7-4948-a139-f539222d4429",
   "metadata": {},
   "outputs": [
    {
     "data": {
      "text/plain": [
       "Month     Category\n",
       "April     T-shirt     10828472.39\n",
       "May       T-shirt      8271083.11\n",
       "June      T-shirt      7493455.73\n",
       "April     Shirt        5840294.45\n",
       "May       Shirt        4427068.76\n",
       "                         ...     \n",
       "July      Socks           3032.00\n",
       "January   Shoes           2037.00\n",
       "December  Socks           1881.00\n",
       "March     Socks           1184.00\n",
       "June      Watch            915.00\n",
       "Name: Amount, Length: 97, dtype: float64"
      ]
     },
     "execution_count": 90,
     "metadata": {},
     "output_type": "execute_result"
    }
   ],
   "source": [
    "df.groupby(['Month','Category'])['Amount'].sum().sort_values(ascending=False)"
   ]
  },
  {
   "cell_type": "code",
   "execution_count": 91,
   "id": "716819a8-cefd-434f-92e7-9f5c1950b2b2",
   "metadata": {},
   "outputs": [
    {
     "data": {
      "text/plain": [
       "Month      Category\n",
       "April      Shirt       14441\n",
       "           T-shirt     14103\n",
       "May        T-shirt     10425\n",
       "           Shirt        9687\n",
       "June       Shirt        9661\n",
       "                       ...  \n",
       "March      Socks           4\n",
       "November   Shoes           4\n",
       "September  Shoes           4\n",
       "January    Shoes           3\n",
       "June       Watch           3\n",
       "Name: Amount, Length: 97, dtype: int64"
      ]
     },
     "execution_count": 91,
     "metadata": {},
     "output_type": "execute_result"
    }
   ],
   "source": [
    "df.groupby(['Month','Category'])['Amount'].count().sort_values(ascending=False)"
   ]
  },
  {
   "cell_type": "code",
   "execution_count": 92,
   "id": "b17b7492-acc0-4684-bd01-a92ab6bae16a",
   "metadata": {},
   "outputs": [
    {
     "data": {
      "text/plain": [
       "Qty\n",
       "1     115601\n",
       "0      12787\n",
       "2        340\n",
       "3         32\n",
       "4          9\n",
       "5          2\n",
       "15         1\n",
       "9          1\n",
       "13         1\n",
       "8          1\n",
       "Name: count, dtype: int64"
      ]
     },
     "execution_count": 92,
     "metadata": {},
     "output_type": "execute_result"
    }
   ],
   "source": [
    "df['Qty'].value_counts()"
   ]
  },
  {
   "cell_type": "code",
   "execution_count": 93,
   "id": "a264b827-4c64-4b94-8d3f-9a17911dab94",
   "metadata": {},
   "outputs": [
    {
     "data": {
      "text/plain": [
       "Order ID\n",
       "171-5057375-2831560    12\n",
       "403-4984515-8861958    12\n",
       "404-9932919-6662730    11\n",
       "403-0173977-3041148    11\n",
       "408-3317403-1729937    10\n",
       "                       ..\n",
       "403-8050222-3232316     1\n",
       "403-8050149-7997962     1\n",
       "403-8049077-0937126     1\n",
       "403-8048313-8941925     1\n",
       "S02-9878098-5959538     1\n",
       "Name: Day_count, Length: 120201, dtype: int64"
      ]
     },
     "execution_count": 93,
     "metadata": {},
     "output_type": "execute_result"
    }
   ],
   "source": [
    "df.groupby(['Order ID'])['Day_count'].count().sort_values(ascending=False)"
   ]
  },
  {
   "cell_type": "code",
   "execution_count": 95,
   "id": "a0b694eb-89c9-427c-ae31-0e5af938d177",
   "metadata": {},
   "outputs": [
    {
     "data": {
      "text/plain": [
       "(128775, 22)"
      ]
     },
     "execution_count": 95,
     "metadata": {},
     "output_type": "execute_result"
    }
   ],
   "source": [
    "df.shape"
   ]
  },
  {
   "cell_type": "code",
   "execution_count": 96,
   "id": "f0547c62-4055-4264-8636-aa356321bda3",
   "metadata": {},
   "outputs": [
    {
     "name": "stdout",
     "output_type": "stream",
     "text": [
      "<class 'pandas.core.frame.DataFrame'>\n",
      "Index: 128775 entries, 0 to 128975\n",
      "Data columns (total 22 columns):\n",
      " #   Column              Non-Null Count   Dtype         \n",
      "---  ------              --------------   -----         \n",
      " 0   index               128775 non-null  int64         \n",
      " 1   Order ID            128775 non-null  object        \n",
      " 2   Date                128775 non-null  datetime64[ns]\n",
      " 3   Status              128775 non-null  object        \n",
      " 4   Fulfilment          128775 non-null  object        \n",
      " 5   Sales Channel       128775 non-null  object        \n",
      " 6   ship-service-level  128775 non-null  object        \n",
      " 7   Category            128775 non-null  object        \n",
      " 8   Size                128775 non-null  object        \n",
      " 9   Courier Status      128775 non-null  object        \n",
      " 10  Qty                 128775 non-null  int64         \n",
      " 11  currency            128775 non-null  object        \n",
      " 12  Amount              128775 non-null  float64       \n",
      " 13  ship-city           128775 non-null  object        \n",
      " 14  ship-state          128775 non-null  object        \n",
      " 15  ship-postal-code    128775 non-null  float64       \n",
      " 16  ship-country        128775 non-null  object        \n",
      " 17  B2B                 128775 non-null  bool          \n",
      " 18  Month               128775 non-null  object        \n",
      " 19  Day                 128775 non-null  object        \n",
      " 20  Day_count           128775 non-null  int32         \n",
      " 21  year                128775 non-null  int32         \n",
      "dtypes: bool(1), datetime64[ns](1), float64(2), int32(2), int64(2), object(14)\n",
      "memory usage: 20.8+ MB\n"
     ]
    }
   ],
   "source": [
    "df.info()"
   ]
  },
  {
   "cell_type": "code",
   "execution_count": 97,
   "id": "8d717d85-e8e5-45d8-96cf-781baf5ce259",
   "metadata": {},
   "outputs": [
    {
     "data": {
      "text/plain": [
       "Index(['index', 'Order ID', 'Date', 'Status', 'Fulfilment', 'Sales Channel',\n",
       "       'ship-service-level', 'Category', 'Size', 'Courier Status', 'Qty',\n",
       "       'currency', 'Amount', 'ship-city', 'ship-state', 'ship-postal-code',\n",
       "       'ship-country', 'B2B', 'Month', 'Day', 'Day_count', 'year'],\n",
       "      dtype='object')"
      ]
     },
     "execution_count": 97,
     "metadata": {},
     "output_type": "execute_result"
    }
   ],
   "source": [
    "df.columns"
   ]
  },
  {
   "cell_type": "code",
   "execution_count": 98,
   "id": "80a8893f-dfa0-49b9-afee-bf5bae3b3a96",
   "metadata": {},
   "outputs": [
    {
     "data": {
      "text/html": [
       "<div>\n",
       "<style scoped>\n",
       "    .dataframe tbody tr th:only-of-type {\n",
       "        vertical-align: middle;\n",
       "    }\n",
       "\n",
       "    .dataframe tbody tr th {\n",
       "        vertical-align: top;\n",
       "    }\n",
       "\n",
       "    .dataframe thead th {\n",
       "        text-align: right;\n",
       "    }\n",
       "</style>\n",
       "<table border=\"1\" class=\"dataframe\">\n",
       "  <thead>\n",
       "    <tr style=\"text-align: right;\">\n",
       "      <th></th>\n",
       "      <th>index</th>\n",
       "      <th>Date</th>\n",
       "      <th>Qty</th>\n",
       "      <th>Amount</th>\n",
       "      <th>ship-postal-code</th>\n",
       "      <th>Day_count</th>\n",
       "      <th>year</th>\n",
       "    </tr>\n",
       "  </thead>\n",
       "  <tbody>\n",
       "    <tr>\n",
       "      <th>count</th>\n",
       "      <td>128775.000000</td>\n",
       "      <td>128775</td>\n",
       "      <td>128775.000000</td>\n",
       "      <td>128775.000000</td>\n",
       "      <td>128775.00000</td>\n",
       "      <td>128775.000000</td>\n",
       "      <td>128775.0</td>\n",
       "    </tr>\n",
       "    <tr>\n",
       "      <th>mean</th>\n",
       "      <td>64564.787948</td>\n",
       "      <td>2022-05-29 06:34:56.847990272</td>\n",
       "      <td>0.904430</td>\n",
       "      <td>609.420426</td>\n",
       "      <td>463957.07107</td>\n",
       "      <td>149.274269</td>\n",
       "      <td>2022.0</td>\n",
       "    </tr>\n",
       "    <tr>\n",
       "      <th>min</th>\n",
       "      <td>0.000000</td>\n",
       "      <td>2022-01-04 00:00:00</td>\n",
       "      <td>0.000000</td>\n",
       "      <td>0.000000</td>\n",
       "      <td>110001.00000</td>\n",
       "      <td>4.000000</td>\n",
       "      <td>2022.0</td>\n",
       "    </tr>\n",
       "    <tr>\n",
       "      <th>25%</th>\n",
       "      <td>32371.500000</td>\n",
       "      <td>2022-04-20 00:00:00</td>\n",
       "      <td>1.000000</td>\n",
       "      <td>413.000000</td>\n",
       "      <td>382421.00000</td>\n",
       "      <td>110.000000</td>\n",
       "      <td>2022.0</td>\n",
       "    </tr>\n",
       "    <tr>\n",
       "      <th>50%</th>\n",
       "      <td>64569.000000</td>\n",
       "      <td>2022-05-21 00:00:00</td>\n",
       "      <td>1.000000</td>\n",
       "      <td>583.810000</td>\n",
       "      <td>500033.00000</td>\n",
       "      <td>141.000000</td>\n",
       "      <td>2022.0</td>\n",
       "    </tr>\n",
       "    <tr>\n",
       "      <th>75%</th>\n",
       "      <td>96772.500000</td>\n",
       "      <td>2022-06-24 00:00:00</td>\n",
       "      <td>1.000000</td>\n",
       "      <td>771.000000</td>\n",
       "      <td>600024.00000</td>\n",
       "      <td>175.000000</td>\n",
       "      <td>2022.0</td>\n",
       "    </tr>\n",
       "    <tr>\n",
       "      <th>max</th>\n",
       "      <td>128974.000000</td>\n",
       "      <td>2022-12-06 00:00:00</td>\n",
       "      <td>15.000000</td>\n",
       "      <td>5584.000000</td>\n",
       "      <td>989898.00000</td>\n",
       "      <td>340.000000</td>\n",
       "      <td>2022.0</td>\n",
       "    </tr>\n",
       "    <tr>\n",
       "      <th>std</th>\n",
       "      <td>37192.505842</td>\n",
       "      <td>NaN</td>\n",
       "      <td>0.313359</td>\n",
       "      <td>313.391228</td>\n",
       "      <td>191478.52940</td>\n",
       "      <td>72.151661</td>\n",
       "      <td>0.0</td>\n",
       "    </tr>\n",
       "  </tbody>\n",
       "</table>\n",
       "</div>"
      ],
      "text/plain": [
       "               index                           Date            Qty  \\\n",
       "count  128775.000000                         128775  128775.000000   \n",
       "mean    64564.787948  2022-05-29 06:34:56.847990272       0.904430   \n",
       "min         0.000000            2022-01-04 00:00:00       0.000000   \n",
       "25%     32371.500000            2022-04-20 00:00:00       1.000000   \n",
       "50%     64569.000000            2022-05-21 00:00:00       1.000000   \n",
       "75%     96772.500000            2022-06-24 00:00:00       1.000000   \n",
       "max    128974.000000            2022-12-06 00:00:00      15.000000   \n",
       "std     37192.505842                            NaN       0.313359   \n",
       "\n",
       "              Amount  ship-postal-code      Day_count      year  \n",
       "count  128775.000000      128775.00000  128775.000000  128775.0  \n",
       "mean      609.420426      463957.07107     149.274269    2022.0  \n",
       "min         0.000000      110001.00000       4.000000    2022.0  \n",
       "25%       413.000000      382421.00000     110.000000    2022.0  \n",
       "50%       583.810000      500033.00000     141.000000    2022.0  \n",
       "75%       771.000000      600024.00000     175.000000    2022.0  \n",
       "max      5584.000000      989898.00000     340.000000    2022.0  \n",
       "std       313.391228      191478.52940      72.151661       0.0  "
      ]
     },
     "execution_count": 98,
     "metadata": {},
     "output_type": "execute_result"
    }
   ],
   "source": [
    "df.describe()"
   ]
  },
  {
   "cell_type": "markdown",
   "id": "1352b6f6-b3ad-43f7-baef-78aaf0a8280f",
   "metadata": {},
   "source": [
    "# Final Conclussion"
   ]
  },
  {
   "cell_type": "code",
   "execution_count": 103,
   "id": "00d61f3b-1897-4e94-857d-88c26e719a89",
   "metadata": {},
   "outputs": [
    {
     "data": {
      "text/plain": [
       "Month\n",
       "April        34847\n",
       "May          28180\n",
       "June         24543\n",
       "March         5174\n",
       "February      5045\n",
       "January       4802\n",
       "August        4738\n",
       "July          4501\n",
       "September     4496\n",
       "October       4211\n",
       "December      4132\n",
       "November      4106\n",
       "Name: Amount, dtype: int64"
      ]
     },
     "execution_count": 103,
     "metadata": {},
     "output_type": "execute_result"
    }
   ],
   "source": [
    "df.groupby(['Month'])['Amount'].count().sort_values(ascending=False)"
   ]
  },
  {
   "cell_type": "code",
   "execution_count": 109,
   "id": "5460b3f8-612a-4311-81f7-26b63edacb13",
   "metadata": {},
   "outputs": [
    {
     "data": {
      "text/plain": [
       "Day\n",
       "Tuesday      20732\n",
       "Saturday     19572\n",
       "Friday       18519\n",
       "Wednesday    18296\n",
       "Sunday       18192\n",
       "Monday       17568\n",
       "Thursday     15896\n",
       "Name: Amount, dtype: int64"
      ]
     },
     "execution_count": 109,
     "metadata": {},
     "output_type": "execute_result"
    }
   ],
   "source": [
    "df.groupby(['Day'])['Amount'].count().sort_values(ascending=False)"
   ]
  },
  {
   "cell_type": "code",
   "execution_count": 122,
   "id": "bc3c24e5-f07d-4946-ab93-04a5d4250586",
   "metadata": {},
   "outputs": [
    {
     "data": {
      "text/plain": [
       "Category  Month    \n",
       "Shirt     April        14441\n",
       "T-shirt   April        14103\n",
       "          May          10425\n",
       "Shirt     May           9687\n",
       "          June          9661\n",
       "                       ...  \n",
       "Socks     March            4\n",
       "Shoes     November         4\n",
       "          September        4\n",
       "          January          3\n",
       "Watch     June             3\n",
       "Length: 97, dtype: int64"
      ]
     },
     "execution_count": 122,
     "metadata": {},
     "output_type": "execute_result"
    }
   ],
   "source": [
    "df.groupby(['Category', 'Month']).size().sort_values(ascending=False)\n"
   ]
  },
  {
   "cell_type": "code",
   "execution_count": 123,
   "id": "44153ba8-af59-48d9-93d2-3e1dd6b099e8",
   "metadata": {},
   "outputs": [
    {
     "data": {
      "text/plain": [
       "Size\n",
       "M       22343\n",
       "L       21768\n",
       "XL      20516\n",
       "XXL     17780\n",
       "S       16748\n",
       "3XL     14625\n",
       "XS      11032\n",
       "Free     2250\n",
       "6XL       738\n",
       "5XL       550\n",
       "4XL       425\n",
       "Name: Amount, dtype: int64"
      ]
     },
     "execution_count": 123,
     "metadata": {},
     "output_type": "execute_result"
    }
   ],
   "source": [
    "df.groupby(['Size'])['Amount'].count().sort_values(ascending=False)"
   ]
  },
  {
   "cell_type": "markdown",
   "id": "e4d8aa89-eec2-4033-8944-1d92be3ddcc3",
   "metadata": {},
   "source": [
    "# On basing on the above Data we can conclued  that "
   ]
  },
  {
   "cell_type": "markdown",
   "id": "48409ade-206f-4354-814f-bbfdf6736e40",
   "metadata": {},
   "source": [
    "# The Large amount sales getting on the month"
   ]
  },
  {
   "cell_type": "markdown",
   "id": "6064b94b-c206-4a24-867a-63ed4e6737f4",
   "metadata": {},
   "source": [
    "# April, May, June"
   ]
  },
  {
   "cell_type": "markdown",
   "id": "4a2b28bc-cd1d-4b27-b0ba-bb6a6f80a24d",
   "metadata": {},
   "source": [
    "# On Tuesdsy we are getting the Large Amount of Orders"
   ]
  },
  {
   "cell_type": "markdown",
   "id": "9649f2a5-dfda-4ff7-833e-180aaa70934e",
   "metadata": {},
   "source": [
    "# On Comparing all the states Maharashtra Getting the Large amount of Orders"
   ]
  },
  {
   "cell_type": "code",
   "execution_count": 124,
   "id": "904d6b6e-1da9-4734-9699-95d9071ec11e",
   "metadata": {},
   "outputs": [
    {
     "data": {
      "image/png": "[encoded data removed]",
      "text/plain": [
       "<Figure size 1400x1000 with 4 Axes>"
      ]
     },
     "metadata": {},
     "output_type": "display_data"
    }
   ],
   "source": [
    "import matplotlib.pyplot as plt\n",
    "\n",
    "fig, axes = plt.subplots(2, 2, figsize=(14, 10))\n",
    "\n",
    "# 1. Total Sales Amount by Day of the Week\n",
    "day_sales = df.groupby(\"Day\")[\"Amount\"].sum().sort_values(ascending=False)\n",
    "ax = day_sales.plot(kind=\"bar\", color=\"skyblue\", edgecolor=\"black\", ax=axes[0,0])\n",
    "axes[0,0].set_title(\"Total Sales Amount by Day of the Week\")\n",
    "axes[0,0].set_xlabel(\"Day of the Week\")\n",
    "axes[0,0].set_ylabel(\"Total Sales Amount\")\n",
    "for i, value in enumerate(day_sales):\n",
    "    axes[0,0].text(i, value + 500000, f\"{value:,.0f}\", ha='center', va='bottom', fontsize=8, fontweight='bold')\n",
    "\n",
    "# 2. Total Sales Amount by Month (Pie Chart)\n",
    "month_sales = df.groupby(\"Month\")[\"Amount\"].sum()\n",
    "months_order = [\"January\", \"February\", \"March\", \"April\", \"May\", \"June\",\n",
    "                \"July\", \"August\", \"September\", \"October\", \"November\", \"December\"]\n",
    "month_sales = month_sales.reindex(months_order).dropna()\n",
    "axes[0,1].pie(\n",
    "    month_sales,\n",
    "    labels=month_sales.index,\n",
    "    autopct='%1.1f%%',\n",
    "    startangle=90,\n",
    "    wedgeprops={'edgecolor': 'black'}\n",
    ")\n",
    "axes[0,1].set_title(\"Total Sales Amount by Month\")\n",
    "\n",
    "# 3. Different Sizes (Bar Chart)\n",
    "size = df[\"Size\"].value_counts()\n",
    "ax = size.plot(kind=\"bar\", color=\"green\", edgecolor=\"black\", ax=axes[1,0])\n",
    "axes[1,0].set_title(\"Different Sizes\")\n",
    "axes[1,0].set_xlabel(\"Size\")\n",
    "axes[1,0].set_ylabel(\"Number of Orders\")\n",
    "for i, value in enumerate(size):\n",
    "    axes[1,0].text(i, value + 500, str(value), ha='center', va='bottom', fontsize=9, fontweight='bold')\n",
    "\n",
    "# 4. Top 10 Shipping States (Horizontal Bar Chart)\n",
    "state_counts = df['ship-state'].value_counts().head(10)\n",
    "ax = state_counts.plot(kind='barh', color='red', edgecolor='black', ax=axes[1,1])\n",
    "axes[1,1].set_title(\"Top 10 Shipping States\")\n",
    "axes[1,1].set_xlabel(\"Number of Orders\")\n",
    "axes[1,1].set_ylabel(\"States\")\n",
    "for i, value in enumerate(state_counts):\n",
    "    axes[1,1].text(value + 200, i, str(value), va='center', fontsize=9, fontweight='bold')\n",
    "\n",
    "# Adjust layout\n",
    "plt.tight_layout()\n",
    "plt.show()\n"
   ]
  },
  {
   "cell_type": "code",
   "execution_count": null,
   "id": "32739e69-507b-430d-9135-38cc8cad0680",
   "metadata": {},
   "outputs": [],
   "source": []
  }
 ],
 "metadata": {
  "kernelspec": {
   "display_name": "Python 3 (ipykernel)",
   "language": "python",
   "name": "python3"
  },
  "language_info": {
   "codemirror_mode": {
    "name": "ipython",
    "version": 3
   },
   "file_extension": ".py",
   "mimetype": "text/x-python",
   "name": "python",
   "nbconvert_exporter": "python",
   "pygments_lexer": "ipython3",
   "version": "3.12.7"
  }
 },
 "nbformat": 4,
 "nbformat_minor": 5
}
